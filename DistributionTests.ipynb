{
 "cells": [
  {
   "cell_type": "code",
   "execution_count": 1,
   "metadata": {
    "collapsed": true
   },
   "outputs": [],
   "source": [
    "import numpy as np\n",
    "from scipy.stats import norm\n",
    "\n",
    "import matplotlib.pyplot as plt\n",
    "\n",
    "%matplotlib inline"
   ]
  },
  {
   "cell_type": "code",
   "execution_count": 2,
   "metadata": {},
   "outputs": [
    {
     "data": {
      "text/plain": [
       "array([  35.92242172,   66.27551249,  100.        ,  133.72448751,\n",
       "        164.07757828])"
      ]
     },
     "execution_count": 2,
     "metadata": {},
     "output_type": "execute_result"
    }
   ],
   "source": [
    "percentiles = np.array([0.1,0.25,0.5,0.75,0.9])\n",
    "norm.ppf(percentiles, loc=100, scale=50)"
   ]
  },
  {
   "cell_type": "code",
   "execution_count": 3,
   "metadata": {
    "collapsed": true
   },
   "outputs": [],
   "source": [
    "percs = np.arange(0.1,0.9,0.01)\n",
    "preds = norm.ppf(percs, loc=100, scale=50)"
   ]
  },
  {
   "cell_type": "code",
   "execution_count": 4,
   "metadata": {},
   "outputs": [
    {
     "data": {
      "text/plain": [
       "[<matplotlib.lines.Line2D at 0x7f68547993d0>]"
      ]
     },
     "execution_count": 4,
     "metadata": {},
     "output_type": "execute_result"
    },
    {
     "data": {
      "image/png": "[encoded data removed]",
      "text/plain": [
       "<matplotlib.figure.Figure at 0x7f6808d2f790>"
      ]
     },
     "metadata": {},
     "output_type": "display_data"
    }
   ],
   "source": [
    "plt.plot(percs, preds)"
   ]
  },
  {
   "cell_type": "code",
   "execution_count": 5,
   "metadata": {},
   "outputs": [
    {
     "data": {
      "text/plain": [
       "[<matplotlib.lines.Line2D at 0x7f6806908e10>]"
      ]
     },
     "execution_count": 5,
     "metadata": {},
     "output_type": "execute_result"
    },
    {
     "data": {
      "image/png": "[encoded data removed]",
      "text/plain": [
       "<matplotlib.figure.Figure at 0x7f6806977b10>"
      ]
     },
     "metadata": {},
     "output_type": "display_data"
    }
   ],
   "source": [
    "std1 = 50\n",
    "std2 = 5\n",
    "std3 = 100\n",
    "\n",
    "pdf1 = norm.pdf(preds, loc=100, scale=std1)\n",
    "pdf2 = norm.pdf(preds, loc=100, scale=std2)\n",
    "pdf3 = norm.pdf(preds, loc=100, scale=std3)\n",
    "\n",
    "plt.plot(preds,pdf1)\n",
    "plt.plot(preds,pdf2)\n",
    "plt.plot(preds,pdf3)"
   ]
  },
  {
   "cell_type": "code",
   "execution_count": 6,
   "metadata": {},
   "outputs": [
    {
     "data": {
      "text/plain": [
       "array([  93.59224217,   96.62755125,  100.        ,  103.37244875,\n",
       "        106.40775783])"
      ]
     },
     "execution_count": 6,
     "metadata": {},
     "output_type": "execute_result"
    }
   ],
   "source": [
    "percentiles = np.array([0.1,0.25,0.5,0.75,0.9])\n",
    "norm.ppf(percentiles, loc=100, scale=std2)"
   ]
  },
  {
   "cell_type": "code",
   "execution_count": 8,
   "metadata": {},
   "outputs": [
    {
     "data": {
      "text/plain": [
       "array([ 0.02285833,  0.02286917,  0.02288002,  0.02289087,  0.02290173,\n",
       "        0.02291259,  0.02292346,  0.02293433,  0.0229452 ,  0.02295608,\n",
       "        0.02296696,  0.02297785,  0.02298874,  0.02299964,  0.02301054,\n",
       "        0.02302144,  0.02303235,  0.02304326,  0.02305418,  0.0230651 ,\n",
       "        0.02307603,  0.02308696,  0.02309789,  0.02310883,  0.02311978,\n",
       "        0.02313072,  0.02314168,  0.02315263,  0.02316359,  0.02317456,\n",
       "        0.02318553,  0.0231965 ,  0.02320748,  0.02321846,  0.02322945,\n",
       "        0.02324044,  0.02325144,  0.02326244,  0.02327344,  0.02328445,\n",
       "        0.02329547,  0.02330649,  0.02331751,  0.02332853,  0.02333957,\n",
       "        0.0233506 ,  0.02336164,  0.02337269,  0.02338373,  0.02339479,\n",
       "        0.02340584,  0.02341691,  0.02342797,  0.02343904,  0.02345012,\n",
       "        0.0234612 ,  0.02347228,  0.02348337,  0.02349446,  0.02350556,\n",
       "        0.02351666,  0.02352777,  0.02353888,  0.02354999,  0.02356111,\n",
       "        0.02357224,  0.02358336,  0.0235945 ,  0.02360563,  0.02361677,\n",
       "        0.02362792,  0.02363907,  0.02365022,  0.02366138,  0.02367255,\n",
       "        0.02368371,  0.02369489,  0.02370606,  0.02371724,  0.02372843])"
      ]
     },
     "execution_count": 8,
     "metadata": {},
     "output_type": "execute_result"
    }
   ],
   "source": [
    "norm.cdf(percs, loc=100, scale=50)"
   ]
  },
  {
   "cell_type": "code",
   "execution_count": 11,
   "metadata": {},
   "outputs": [
    {
     "data": {
      "text/plain": [
       "array([ 0.05479929,  0.11506967,  0.2118554 ,  0.34457826,  0.5       ,\n",
       "        0.65542174,  0.7881446 ,  0.88493033,  0.94520071])"
      ]
     },
     "execution_count": 11,
     "metadata": {},
     "output_type": "execute_result"
    }
   ],
   "source": [
    "vals = np.array([1,2,3,4,5,6,7,8,9])\n",
    "means = np.array([5]*9)\n",
    "stds = np.array([2.5]*9)\n",
    "norm.cdf(vals, loc=means,scale=stds)"
   ]
  },
  {
   "cell_type": "code",
   "execution_count": 21,
   "metadata": {},
   "outputs": [],
   "source": [
    "mat = np.array ([[1,1,1,1,1],\n",
    "                 [2,2,2,2,2],\n",
    "                 [3,3,3,3,3]])\n",
    "a = np.array([1,2,3,4,5])\n",
    "mat[0,:] = a"
   ]
  },
  {
   "cell_type": "code",
   "execution_count": 22,
   "metadata": {},
   "outputs": [
    {
     "data": {
      "text/plain": [
       "array([[1, 2, 3, 4, 5],\n",
       "       [2, 2, 2, 2, 2],\n",
       "       [3, 3, 3, 3, 3]])"
      ]
     },
     "execution_count": 22,
     "metadata": {},
     "output_type": "execute_result"
    }
   ],
   "source": [
    "mat"
   ]
  },
  {
   "cell_type": "code",
   "execution_count": null,
   "metadata": {
    "collapsed": true
   },
   "outputs": [],
   "source": []
  }
 ],
 "metadata": {
  "kernelspec": {
   "display_name": "Python 2",
   "language": "python",
   "name": "python2"
  },
  "language_info": {
   "codemirror_mode": {
    "name": "ipython",
    "version": 2
   },
   "file_extension": ".py",
   "mimetype": "text/x-python",
   "name": "python",
   "nbconvert_exporter": "python",
   "pygments_lexer": "ipython2",
   "version": "2.7.12"
  }
 },
 "nbformat": 4,
 "nbformat_minor": 2
}
