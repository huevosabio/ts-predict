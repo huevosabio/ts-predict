{
 "cells": [
  {
   "cell_type": "code",
   "execution_count": 2,
   "metadata": {},
   "outputs": [
    {
     "name": "stderr",
     "output_type": "stream",
     "text": [
      "Using TensorFlow backend.\n"
     ]
    }
   ],
   "source": [
    "# imports\n",
    "import numpy             as np\n",
    "import matplotlib.pyplot as plt\n",
    "import pandas            as pd\n",
    "import math\n",
    "import keras\n",
    "from scipy.stats  import norm\n",
    "from keras.models import Sequential\n",
    "from keras.layers import Dense, LSTM, Dropout\n",
    "from keras        import backend as K\n",
    "from datetime     import datetime\n",
    "from keras.optimizers      import RMSprop\n",
    "from sklearn.preprocessing import MinMaxScaler\n",
    "from sklearn.metrics       import mean_squared_error\n",
    "from matplotlib.pylab      import rcParams\n",
    "%matplotlib inline\n",
    "rcParams['figure.figsize'] = 15, 6\n",
    "\n",
    "# number of inputs to be fed\n",
    "look_back = 288\n",
    "# number of outputs to be generated\n",
    "look_forward = 24\n",
    "# the scope of the LSTM Model\n",
    "stations = 66\n",
    "\n",
    "# convert an array of values into a dataset matrix, adjusted to make a dateset that is 66 wide\n",
    "def create_dataset(dataset, look_back=1, look_forward=2):\n",
    "    dataX, dataY = [], []\n",
    "    np.array(dataY)\n",
    "    for i in range(len(dataset)-look_back-1):\n",
    "        a = dataset[i:(i+look_back),:]\n",
    "        # Makes sure that the array isn't the last 2 or 3 or whatever bits. It has to be the full 24\n",
    "        if len(dataset[i + look_back:i+look_back+look_forward, 0]) == look_forward:\n",
    "            dataX.append(a.T)\n",
    "            dataY.append(dataset[i + look_back:i+look_back+look_forward, :].T)\n",
    "    return np.array(dataX), np.array(dataY)\n",
    "\n",
    "def predict_with_uncertainty(model, dataset, n_iter=100):\n",
    "    # This function activates drop-out when doing predictions\n",
    "    f = K.function([model.layers[0].input, K.learning_phase()],\n",
    "                      [model.layers[-1].output])\n",
    "    all_pred = np.zeros((n_iter,) + (stations,look_forward,) )\n",
    "\n",
    "    for iter in range(n_iter):\n",
    "        all_pred[iter] = np.array( f([dataset.reshape( (1,) + dataset.shape), 1]) ).reshape(66, 24)\n",
    "    avg_pred = all_pred.mean(axis=0)\n",
    "    std = np.std(all_pred, axis=0)\n",
    "    return all_pred, avg_pred, std\n",
    "\n",
    "# given a model and data from the original dataset, it uses predict_with_uncertainty to predict with dropout\n",
    "def run_predictions (model, dataset):\n",
    "\n",
    "    # scale the dataset\n",
    "    scaler = MinMaxScaler(feature_range=(0, 1))\n",
    "    dataset = scaler.fit_transform(np.array(dataset))\n",
    "    data = dataset.T\n",
    "\n",
    "    # feeds the model and data into a function that will activate the dro-out\n",
    "    all_pred, avg_pred, std = predict_with_uncertainty(model, data)\n",
    "    # All the predictions\n",
    "    for i in range(all_pred.shape[0]):\n",
    "        for j in range(all_pred.shape[2]):\n",
    "            all_pred[i,:,j] = scaler.inverse_transform(all_pred[i,:,j].reshape(1,-1))\n",
    "    for i in range(look_forward):\n",
    "        # The Average Prediction\n",
    "        avg_pred[:,i] = scaler.inverse_transform(avg_pred[:,i].reshape(1,-1))\n",
    "        # The Standard Deviation At Each T Of Prediction\n",
    "        std[:,i] = scaler.inverse_transform(std[:,i].reshape(1,-1))\n",
    "\n",
    "    return all_pred, avg_pred, std"
   ]
  },
  {
   "cell_type": "code",
   "execution_count": 3,
   "metadata": {
    "collapsed": true
   },
   "outputs": [],
   "source": [
    "def predict (model, day=11, total_days=1, delta=1, show_gradual_error=False, show_graph=True):\n",
    "    \n",
    "    temp = rcParams['figure.figsize']\n",
    "    rcParams['figure.figsize'] = 15, 3\n",
    "    \n",
    "    # creates matrices to hold the \n",
    "    avg_preds = np.zeros((288*total_days/delta, stations, look_forward))\n",
    "    true_vals = np.zeros((288*total_days/delta, stations, look_forward))\n",
    "    cdf_vals  = np.zeros((288*total_days/delta, stations, look_forward))\n",
    "\n",
    "    percent_over     = np.zeros(288*total_days/delta)\n",
    "    percent_negative = np.zeros(288*total_days/delta)\n",
    "    \n",
    "    # Runs all the predictions\n",
    "    for i in range (288*total_days/delta):\n",
    "        \n",
    "        # the point where the model will predict\n",
    "        point = 288*day + i * delta\n",
    "\n",
    "        # Gets predictions\n",
    "        all_pred, avg_pred, std = run_predictions (model, dataset_orig[point-look_back:point])\n",
    "        # Gets the True Values\n",
    "        true_val = dataset_orig[point:point+look_forward,:].T\n",
    "        \n",
    "        percent_negative[i] = 100.0 * (all_pred < 0).sum() / all_pred.size\n",
    "        \n",
    "        # converts the original values to cdf values according to the cumullative distibution functions at t+1, t+2, ..., t+24 (0.0-1.0)\n",
    "        # Adds the values to the overall matrix of cdf\n",
    "        cdf_vals[i,:,:] = norm.cdf(true_val, loc=avg_pred, scale=std)\n",
    "\n",
    "        avg_preds[i], true_vals[i] = avg_pred, true_val\n",
    "\n",
    "        if(show_graph):\n",
    "            for i in np.arange(stations):\n",
    "                plt.figure(i)\n",
    "                \n",
    "                # plots the uncertainty to the degree of half a standard deviation\n",
    "                plt.fill_between(range(point, point+look_forward), \n",
    "                                 avg_pred[i] + std[i]/2.0, \n",
    "                                 avg_pred[i] - std[i]/2.0, \n",
    "                                 facecolor='red', alpha=0.25)\n",
    "                # plots the uncertainty to the degree of a full standard deviation\n",
    "                plt.fill_between(range(point, point+look_forward), \n",
    "                                 avg_pred[i] + std[i], \n",
    "                                 avg_pred[i] - std[i], \n",
    "                                 facecolor='red', alpha=0.25)\n",
    "                # plots the average predictions\n",
    "                plt.plot(range(point, point+look_forward), avg_pred[i], color='red', alpha=1)\n",
    "\n",
    "    print \"Percent Negative: {}\".format(np.mean(percent_negative))\n",
    "\n",
    "    if show_graph:\n",
    "        for i in range (stations):\n",
    "            plt.figure(i)\n",
    "            plt.plot( np.arange(288*total_days+look_forward) + 288 * day, dataset_orig[288*day:288*day+288*total_days + look_forward,i])\n",
    "            plt.axhline(0)\n",
    "        plt.show()\n",
    "\n",
    "    if show_gradual_error:\n",
    "        indiv_err = true_vals - avg_preds\n",
    "        for i in range(look_forward):\n",
    "            plt.scatter(np.ones(len(indiv_err[:,i]))*i,indiv_err[:,i], color='black',alpha=0.1)\n",
    "        plt.axhline(0)\n",
    "        plt.show()\n",
    "        \n",
    "    rcParams['figure.figsize'] = temp\n",
    "    \n",
    "    return cdf_vals\n"
   ]
  },
  {
   "cell_type": "code",
   "execution_count": 4,
   "metadata": {
    "collapsed": true
   },
   "outputs": [],
   "source": [
    "# The interval between each dataset (original data in 5 minute intervals)\n",
    "time_grouping = '5min'\n",
    "\n",
    "# load the dataset\n",
    "dataframe = pd.read_csv('ignored_assets/paxout_table.csv', engine='python', nrows=288*21)\n",
    "dataframe['time_bucket'] = pd.to_datetime(dataframe['time_bucket'])\n",
    "dataframe = dataframe.set_index('time_bucket')\n",
    "# dataframe['total'] = dataframe.sum(axis=1)\n",
    "dataframe['day_hour'] = dataframe.index.round(time_grouping)\n",
    "dataframe = dataframe.groupby('day_hour').sum()\n",
    "# removes the timestamp at column 67\n",
    "dataset_orig = dataframe.values[:,:stations]\n",
    "dataset_orig = dataset_orig.astype('float32')\n",
    "# scale the dataset\n",
    "scaler = MinMaxScaler(feature_range=(0, 1))\n",
    "dataset = scaler.fit_transform(dataset_orig)\n"
   ]
  },
  {
   "cell_type": "code",
   "execution_count": 5,
   "metadata": {
    "collapsed": true
   },
   "outputs": [],
   "source": [
    "# split into train and test sets\n",
    "train_size = 288 * 10\n",
    "test_size = len(dataset) - train_size\n",
    "test, train = dataset[0:test_size,:], dataset[test_size:len(dataset)-look_forward,:]\n",
    "\n",
    "# reshape into X=[t, t-1, t-2,..., t-look_back] and Y=[t+1, t+2,... t+look_forward]\n",
    "trainX, trainY = create_dataset(train, look_back, look_forward)\n",
    "testX, testY = create_dataset(test, look_back, look_forward)"
   ]
  },
  {
   "cell_type": "code",
   "execution_count": 6,
   "metadata": {
    "collapsed": true
   },
   "outputs": [],
   "source": [
    "# creates a model but does not compile the model\n",
    "def create_model(rate=0.3):\n",
    "    model = Sequential()\n",
    "    model.add(Dropout(rate, input_shape=(stations, look_back)))\n",
    "    lstm = LSTM(256, recurrent_dropout=0.3, return_sequences=True)\n",
    "    model.add(lstm)\n",
    "    for i in range(6):\n",
    "        model.add(Dropout(rate))\n",
    "        model.add(Dense(16))\n",
    "    model.add(Dense(look_forward))\n",
    "    return model"
   ]
  },
  {
   "cell_type": "code",
   "execution_count": null,
   "metadata": {},
   "outputs": [
    {
     "name": "stdout",
     "output_type": "stream",
     "text": [
      "Epoch 1/10\n",
      "14s - loss: 0.2493\n",
      "Epoch 2/10\n",
      "7s - loss: 0.2044\n",
      "Epoch 3/10\n",
      "8s - loss: 0.1831\n",
      "Epoch 4/10\n",
      "8s - loss: 0.1685\n",
      "Epoch 5/10\n",
      "8s - loss: 0.1577\n",
      "Epoch 6/10\n",
      "8s - loss: 0.1493\n",
      "Epoch 7/10\n",
      "8s - loss: 0.1422\n",
      "Epoch 8/10\n",
      "8s - loss: 0.1364\n",
      "Epoch 9/10\n",
      "8s - loss: 0.1319\n",
      "Epoch 10/10\n",
      "8s - loss: 0.1275\n"
     ]
    },
    {
     "data": {
      "text/plain": [
       "<keras.callbacks.History at 0x7f28bfa41590>"
      ]
     },
     "execution_count": 7,
     "metadata": {},
     "output_type": "execute_result"
    }
   ],
   "source": [
    "def priorities (y_true, y_pred):\n",
    "    w = np.arange(1,0, -1./24)**1.3\n",
    "    w = w / w.sum()\n",
    "    w = w[:,None]\n",
    "    W = K.variable(value = w)\n",
    "    return K.dot( K.abs(y_pred-y_true), W)\n",
    "\n",
    "batch = 1\n",
    "seed = 11\n",
    "# create and fit the LSTM network\n",
    "model = create_model(rate=0.3)\n",
    "np.random.seed(seed)\n",
    "model.compile(loss=priorities, optimizer=RMSprop(lr=0.0001, rho=0.9, epsilon=1e-08, decay=0.0))\n",
    "model.fit(trainX, trainY, epochs=10, batch_size=100, verbose=2)\n"
   ]
  },
  {
   "cell_type": "code",
   "execution_count": 25,
   "metadata": {},
   "outputs": [
    {
     "name": "stdout",
     "output_type": "stream",
     "text": [
      "Epoch 1/60\n",
      "7s - loss: 0.0654\n",
      "Epoch 2/60\n",
      "7s - loss: 0.0655\n",
      "Epoch 3/60\n",
      "7s - loss: 0.0654\n",
      "Epoch 4/60\n",
      "7s - loss: 0.0653\n",
      "Epoch 5/60\n",
      "7s - loss: 0.0653\n",
      "Epoch 6/60\n",
      "7s - loss: 0.0653\n",
      "Epoch 7/60\n",
      "7s - loss: 0.0652\n",
      "Epoch 8/60\n",
      "7s - loss: 0.0653\n",
      "Epoch 9/60\n",
      "7s - loss: 0.0652\n",
      "Epoch 10/60\n",
      "7s - loss: 0.0651\n",
      "Epoch 11/60\n",
      "7s - loss: 0.0651\n",
      "Epoch 12/60\n",
      "7s - loss: 0.0651\n",
      "Epoch 13/60\n",
      "7s - loss: 0.0650\n",
      "Epoch 14/60\n",
      "7s - loss: 0.0650\n",
      "Epoch 15/60\n",
      "7s - loss: 0.0649\n",
      "Epoch 16/60\n",
      "7s - loss: 0.0650\n",
      "Epoch 17/60\n",
      "7s - loss: 0.0650\n",
      "Epoch 18/60\n",
      "7s - loss: 0.0649\n",
      "Epoch 19/60\n",
      "7s - loss: 0.0649\n",
      "Epoch 20/60\n",
      "7s - loss: 0.0648\n",
      "Epoch 21/60\n",
      "7s - loss: 0.0648\n",
      "Epoch 22/60\n",
      "7s - loss: 0.0648\n",
      "Epoch 23/60\n",
      "7s - loss: 0.0648\n",
      "Epoch 24/60\n",
      "7s - loss: 0.0647\n",
      "Epoch 25/60\n",
      "7s - loss: 0.0647\n",
      "Epoch 26/60\n",
      "7s - loss: 0.0648\n",
      "Epoch 27/60\n",
      "7s - loss: 0.0647\n",
      "Epoch 28/60\n",
      "7s - loss: 0.0646\n",
      "Epoch 29/60\n",
      "7s - loss: 0.0646\n",
      "Epoch 30/60\n",
      "7s - loss: 0.0647\n",
      "Epoch 31/60\n",
      "7s - loss: 0.0645\n",
      "Epoch 32/60\n",
      "7s - loss: 0.0646\n",
      "Epoch 33/60\n",
      "7s - loss: 0.0646\n",
      "Epoch 34/60\n",
      "7s - loss: 0.0644\n",
      "Epoch 35/60\n",
      "7s - loss: 0.0645\n",
      "Epoch 36/60\n",
      "7s - loss: 0.0645\n",
      "Epoch 37/60\n",
      "7s - loss: 0.0645\n",
      "Epoch 38/60\n",
      "7s - loss: 0.0645\n",
      "Epoch 39/60\n",
      "7s - loss: 0.0644\n",
      "Epoch 40/60\n",
      "7s - loss: 0.0644\n",
      "Epoch 41/60\n",
      "7s - loss: 0.0644\n",
      "Epoch 42/60\n",
      "7s - loss: 0.0644\n",
      "Epoch 43/60\n",
      "7s - loss: 0.0643\n",
      "Epoch 44/60\n",
      "7s - loss: 0.0643\n",
      "Epoch 45/60\n",
      "7s - loss: 0.0643\n",
      "Epoch 46/60\n",
      "7s - loss: 0.0644\n",
      "Epoch 47/60\n",
      "7s - loss: 0.0642\n",
      "Epoch 48/60\n",
      "7s - loss: 0.0642\n",
      "Epoch 49/60\n",
      "7s - loss: 0.0642\n",
      "Epoch 50/60\n",
      "7s - loss: 0.0642\n",
      "Epoch 51/60\n",
      "7s - loss: 0.0642\n",
      "Epoch 52/60\n",
      "7s - loss: 0.0641\n",
      "Epoch 53/60\n",
      "7s - loss: 0.0641\n",
      "Epoch 54/60\n",
      "7s - loss: 0.0641\n",
      "Epoch 55/60\n",
      "7s - loss: 0.0642\n",
      "Epoch 56/60\n",
      "7s - loss: 0.0641\n",
      "Epoch 57/60\n",
      "7s - loss: 0.0642\n",
      "Epoch 58/60\n",
      "7s - loss: 0.0641\n",
      "Epoch 59/60\n",
      "7s - loss: 0.0641\n",
      "Epoch 60/60\n",
      "7s - loss: 0.0641\n"
     ]
    },
    {
     "data": {
      "text/plain": [
       "<keras.callbacks.History at 0x7f8218ef6350>"
      ]
     },
     "execution_count": 25,
     "metadata": {},
     "output_type": "execute_result"
    }
   ],
   "source": [
    "model.fit(trainX, trainY, epochs=60, batch_size=60, verbose=2)"
   ]
  },
  {
   "cell_type": "code",
   "execution_count": null,
   "metadata": {
    "scrolled": false
   },
   "outputs": [
    {
     "name": "stderr",
     "output_type": "stream",
     "text": [
      "/home/rdit/development/ts-predict/venv/local/lib/python2.7/site-packages/matplotlib/pyplot.py:524: RuntimeWarning: More than 20 figures have been opened. Figures created through the pyplot interface (`matplotlib.pyplot.figure`) are retained until explicitly closed and may consume too much memory. (To control this warning, see the rcParam `figure.max_open_warning`).\n",
      "  max_open_warning, RuntimeWarning)\n"
     ]
    }
   ],
   "source": [
    "predict(model, total_days=5,day=11,delta=24)"
   ]
  },
  {
   "cell_type": "code",
   "execution_count": null,
   "metadata": {
    "collapsed": true
   },
   "outputs": [],
   "source": []
  },
  {
   "cell_type": "code",
   "execution_count": null,
   "metadata": {
    "collapsed": true
   },
   "outputs": [],
   "source": []
  },
  {
   "cell_type": "code",
   "execution_count": null,
   "metadata": {
    "collapsed": true
   },
   "outputs": [],
   "source": []
  },
  {
   "cell_type": "code",
   "execution_count": null,
   "metadata": {
    "collapsed": true
   },
   "outputs": [],
   "source": []
  },
  {
   "cell_type": "code",
   "execution_count": null,
   "metadata": {
    "collapsed": true
   },
   "outputs": [],
   "source": []
  },
  {
   "cell_type": "code",
   "execution_count": null,
   "metadata": {
    "collapsed": true
   },
   "outputs": [],
   "source": []
  }
 ],
 "metadata": {
  "kernelspec": {
   "display_name": "Python 2",
   "language": "python",
   "name": "python2"
  },
  "language_info": {
   "codemirror_mode": {
    "name": "ipython",
    "version": 2
   },
   "file_extension": ".py",
   "mimetype": "text/x-python",
   "name": "python",
   "nbconvert_exporter": "python",
   "pygments_lexer": "ipython2",
   "version": "2.7.12"
  }
 },
 "nbformat": 4,
 "nbformat_minor": 2
}
