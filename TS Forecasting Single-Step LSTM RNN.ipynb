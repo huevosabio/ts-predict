{
 "cells": [
  {
   "cell_type": "markdown",
   "metadata": {},
   "source": [
    "<h1 style=\"font-size:3em; text-align: center\">Single-Step Forecasting With Keras LSTM Network</h1>\n",
    "\n",
    "Our approach here is to develop a Single-Step LSTM RNN which will forecast the next 2 hours of traffic based on the previous 5 hours of data. For computational performance, we lessen the magnitude of data from 5 minute intervals to 15 minute intervals. We used an instructional LSTM example to begin developing the LSTM Neural Network using the Keras library.\n",
    "\n",
    "Sources:\n",
    "http://machinelearningmastery.com/time-series-prediction-lstm-recurrent-neural-networks-python-keras/"
   ]
  },
  {
   "cell_type": "markdown",
   "metadata": {},
   "source": [
    "## Imports Python Libraries"
   ]
  },
  {
   "cell_type": "code",
   "execution_count": 127,
   "metadata": {},
   "outputs": [],
   "source": [
    "# imports\n",
    "\n",
    "import numpy             as np\n",
    "import matplotlib.pyplot as plt\n",
    "import pandas            as pd\n",
    "import math\n",
    "import keras\n",
    "\n",
    "# jupyter command - allows plots to show up\n",
    "%matplotlib inline\n",
    "\n",
    "from matplotlib.pylab import rcParams\n",
    "rcParams['figure.figsize'] = 15*0.5, 6*0.5\n",
    "\n",
    "from keras.models import Sequential\n",
    "from keras.layers import Dense\n",
    "from keras.layers import LSTM\n",
    "from sklearn.preprocessing import MinMaxScaler\n",
    "from sklearn.metrics       import mean_squared_error\n",
    "from datetime import datetime"
   ]
  },
  {
   "cell_type": "markdown",
   "metadata": {},
   "source": [
    "## Assigns a Seed to Ensure reproducable results"
   ]
  },
  {
   "cell_type": "code",
   "execution_count": 128,
   "metadata": {
    "collapsed": true
   },
   "outputs": [],
   "source": [
    "# fixes the random number seed to ensure reproducible results\n",
    "np.random.seed(69)"
   ]
  },
  {
   "cell_type": "markdown",
   "metadata": {},
   "source": [
    "## Imports a csv data set using Panda"
   ]
  },
  {
   "cell_type": "code",
   "execution_count": 129,
   "metadata": {
    "collapsed": true
   },
   "outputs": [],
   "source": [
    "# The interval between each dataset (original data in 5 minute intervals)\n",
    "time_grouping = '5min'\n",
    "\n",
    "# load the dataset\n",
    "dataframe = pd.read_csv('ignored_assets/paxout_table.csv', engine='python', nrows=288*12)\n",
    "dataframe['time_bucket'] = pd.to_datetime(dataframe['time_bucket'])\n",
    "dataframe = dataframe.set_index('time_bucket')\n",
    "dataframe['total'] = dataframe.sum(axis=1)\n",
    "dataframe['day_hour'] = dataframe.index.round(time_grouping)\n",
    "\n",
    "\n",
    "# The data set with the sum of all the cars out at the \n",
    "dataframe = dataframe[['total','day_hour']].groupby('day_hour').sum()\n",
    "\n",
    "dataset = dataframe.values\n",
    "dataset = dataset.astype('float32')"
   ]
  },
  {
   "cell_type": "markdown",
   "metadata": {},
   "source": [
    "### LSTM-RNN is sensitive to large numbers, so normalizing is a good idea"
   ]
  },
  {
   "cell_type": "code",
   "execution_count": 130,
   "metadata": {
    "collapsed": true
   },
   "outputs": [],
   "source": [
    "# normalize the dataset\n",
    "scaler = MinMaxScaler(feature_range=(0, 1))\n",
    "dataset = scaler.fit_transform(dataset)"
   ]
  },
  {
   "cell_type": "markdown",
   "metadata": {},
   "source": [
    "## Splits the Original Data into a Training and Testing Set\n",
    "\n",
    "### train_size and test_size\n",
    "\n",
    "The calculated length of the training and testing set (respectively) as an integer. The length of the training set is based on the constant 0.67, which means that 2/3 of the original data will be in the training data, and the last third will be to test the LSTM model's accuracy with new data\n",
    "\n",
    "### train\n",
    "\n",
    "This dataset contains the first 2/3 of the data available in the original dataset \n",
    "\n",
    "### test\n",
    "\n",
    "This dataset contains the last 1/3 of the data available in the original dataset"
   ]
  },
  {
   "cell_type": "code",
   "execution_count": 131,
   "metadata": {
    "collapsed": true
   },
   "outputs": [],
   "source": [
    "# split into train and test sets\n",
    "train_size = int(len(dataset) * 0.67)\n",
    "test_size = len(dataset) - train_size\n",
    "train, test = dataset[0:train_size,:], dataset[train_size:len(dataset),:]"
   ]
  },
  {
   "cell_type": "markdown",
   "metadata": {
    "collapsed": true
   },
   "source": [
    "## create_dataset()\n",
    "\n",
    "This function, given a dataset and optionally a look_back variable will generate two matrices. The first will be a matrix with all of the inputs for multiple training sets. The second will be a matrix with the output(s) that the LSTM should have.\n",
    "\n",
    "<table>\n",
    "    <tr>\n",
    "        <th style='text-align: left'>Variables</th>\n",
    "        <th style='text-align: left'>Description</th>\n",
    "    </tr>\n",
    "    <tr>\n",
    "        <td style='text-align:left'><b>dataset</b></td> \n",
    "        <td style='text-align:left'>The dataset which will be split into two input and output matrices</td>\n",
    "    </tr>\n",
    "    <tr>\n",
    "        <td style='text-align:left'><b>look_back</b></td>\n",
    "        <td style='text-align:left'>(Def = 1) This variable determines how many inputs will be in each row of the input matrix. </td>\n",
    "    </tr>\n",
    "</table>"
   ]
  },
  {
   "cell_type": "code",
   "execution_count": 132,
   "metadata": {
    "collapsed": true
   },
   "outputs": [],
   "source": [
    "# convert an array of values into a dataset matrix\n",
    "def create_dataset(dataset, look_back=1):\n",
    "\tdataX, dataY = [], []\n",
    "\tfor i in range(len(dataset)-look_back-1):\n",
    "\t\ta = dataset[i:(i+look_back), 0]\n",
    "\t\tdataX.append(a)\n",
    "\t\tdataY.append(dataset[i + look_back, 0])\n",
    "\treturn np.array(dataX), np.array(dataY)"
   ]
  },
  {
   "cell_type": "markdown",
   "metadata": {},
   "source": [
    "## Uses the Above Function to Create the Training and Test sets\n",
    "\n",
    "### trainX and testX\n",
    "\n",
    "A matrix where each row is an array of the input(s) depending on look_back\n",
    "\n",
    "### trainY and testY\n",
    "\n",
    "A matrix where each row is an array of the desired output(s)\n"
   ]
  },
  {
   "cell_type": "code",
   "execution_count": 133,
   "metadata": {
    "collapsed": true
   },
   "outputs": [],
   "source": [
    "# reshapes the data into input and output matrices (X and Y respectively)\n",
    "look_back = 3\n",
    "trainX, trainY = create_dataset(train, look_back)\n",
    "testX, testY = create_dataset(test, look_back)"
   ]
  },
  {
   "cell_type": "markdown",
   "metadata": {},
   "source": [
    "## The Data Sets are in the Form [samples, features] so We Reshape to be [samples, time-steps, features]\n",
    "\n",
    "<b>Samples</b>: Each row, which is a set of all of the inputs\n",
    "<br/>\n",
    "<b>Time Steps</b>: The observations that led up to the incident\n",
    "<br/>\n",
    "<b>Features</b>: The individual values for the inputs\n"
   ]
  },
  {
   "cell_type": "code",
   "execution_count": 134,
   "metadata": {
    "collapsed": true
   },
   "outputs": [],
   "source": [
    "# reshape input to be [samples, time steps, features]\n",
    "trainX = np.reshape(trainX, (trainX.shape[0], 1, trainX.shape[1]))\n",
    "testX = np.reshape(testX, (testX.shape[0], 1, testX.shape[1]))"
   ]
  },
  {
   "cell_type": "code",
   "execution_count": 135,
   "metadata": {},
   "outputs": [
    {
     "name": "stdout",
     "output_type": "stream",
     "text": [
      "Test Score: 72.82 RMSE\n"
     ]
    },
    {
     "data": {
      "image/png": "[encoded data removed]",
      "text/plain": [
       "<matplotlib.figure.Figure at 0x1172bf290>"
      ]
     },
     "metadata": {},
     "output_type": "display_data"
    }
   ],
   "source": [
    "## Optionally, The Model Can Be Fit Multiple Times With the Training Set at the risk of Over-Fitting\n",
    "\n",
    "# make predictions\n",
    "testPredict = model.predict(testX)\n",
    "# invert predictions\n",
    "testPredict = scaler.inverse_transform(testPredict)\n",
    "testY = scaler.inverse_transform([testY])\n",
    "# calculate root mean squared error\n",
    "testScore = math.sqrt(mean_squared_error(testY[0], testPredict[:,0]))\n",
    "print('Test Score: %.2f RMSE' % (testScore))\n",
    "\n",
    "# shift test predictions for plotting\n",
    "plt.plot(scaler.inverse_transform(dataset[train_size+look_back*2:]))\n",
    "plt.plot(testPredict)\n",
    "plt.show()"
   ]
  },
  {
   "cell_type": "markdown",
   "metadata": {},
   "source": [
    "## Generates and Trains an LSTM Neural Network with Keras\n",
    "\n",
    "The model consists of a chain of 4 LSTM Neurons and a Dense layer with an output of 1. The input shape is an matrix with one row and as many features as the look_back variable describes. In other words, this model takes the some number of inputs (depending on look_back) and will return a single output.\n",
    "\n",
    "The model is then fit using the training set, with a batch_size of 1 and 10 epochs. This fitting process can be repeated but runs the risk of over-fitting the LSTM Network."
   ]
  },
  {
   "cell_type": "code",
   "execution_count": 9,
   "metadata": {},
   "outputs": [
    {
     "name": "stdout",
     "output_type": "stream",
     "text": [
      "Epoch 1/5\n",
      "27s - loss: 0.0026\n",
      "Epoch 2/5\n",
      "25s - loss: 0.0015\n",
      "Epoch 3/5\n",
      "26s - loss: 0.0013\n",
      "Epoch 4/5\n",
      "26s - loss: 0.0012\n",
      "Epoch 5/5\n",
      "26s - loss: 0.0011\n"
     ]
    },
    {
     "data": {
      "text/plain": [
       "<keras.callbacks.History at 0x116936a50>"
      ]
     },
     "execution_count": 9,
     "metadata": {},
     "output_type": "execute_result"
    }
   ],
   "source": [
    "model = Sequential()\n",
    "model.add(LSTM(4, input_shape=(1, look_back)))\n",
    "model.add(Dense(1))\n",
    "model.compile(loss='mean_squared_error', optimizer='adam')\n",
    "model.fit(trainX, trainY, epochs=5, batch_size=1, verbose=2)"
   ]
  },
  {
   "cell_type": "code",
   "execution_count": 10,
   "metadata": {},
   "outputs": [
    {
     "name": "stdout",
     "output_type": "stream",
     "text": [
      "Epoch 1/1\n",
      "25s - loss: 9.7404e-04\n",
      "Epoch 1/1\n",
      "26s - loss: 9.0281e-04\n",
      "Epoch 1/1\n",
      "25s - loss: 8.1777e-04\n",
      "Epoch 1/1\n",
      "26s - loss: 7.9488e-04\n",
      "Epoch 1/1\n",
      "25s - loss: 7.5748e-04\n",
      "Epoch 1/1\n",
      "24s - loss: 7.4799e-04\n",
      "Epoch 1/1\n",
      "23s - loss: 7.3412e-04\n",
      "Epoch 1/1\n",
      "25s - loss: 7.4468e-04\n",
      "Epoch 1/1\n",
      "25s - loss: 7.3512e-04\n",
      "Epoch 1/1\n",
      "25s - loss: 7.1987e-04\n"
     ]
    }
   ],
   "source": [
    "for i in range(10):\n",
    "    model.fit(trainX, trainY, epochs=1, batch_size=1, verbose=2)"
   ]
  },
  {
   "cell_type": "markdown",
   "metadata": {},
   "source": [
    "## The Model Trained Above is Then Tested using the Testing Dataset\n",
    "\n",
    "\n",
    "The LSTM model is given the testX and the LSTM attempts to predict the next value. The accuracy of the model is calculated using the Root Mean Squared Error (RMSE) and is displayed. The model's predictions are then graphed ontop of the actual data to visually show the accuracy of the model.\n"
   ]
  },
  {
   "cell_type": "code",
   "execution_count": 39,
   "metadata": {},
   "outputs": [
    {
     "name": "stdout",
     "output_type": "stream",
     "text": [
      "Train Score: 67.71 RMSE\n",
      "Test Score: 72.82 RMSE\n"
     ]
    },
    {
     "data": {
      "image/png": "[encoded data removed]",
      "text/plain": [
       "<matplotlib.figure.Figure at 0x1174ca250>"
      ]
     },
     "metadata": {},
     "output_type": "display_data"
    }
   ],
   "source": [
    "# make predictions\n",
    "trainPredict = model.predict(trainX)\n",
    "testPredict = model.predict(testX)\n",
    "# invert predictions\n",
    "trainPredict = scaler.inverse_transform(trainPredict)\n",
    "trainY = scaler.inverse_transform([trainY])\n",
    "testPredict = scaler.inverse_transform(testPredict)\n",
    "testY = scaler.inverse_transform([testY])\n",
    "# calculate root mean squared error\n",
    "trainScore = math.sqrt(mean_squared_error(trainY[0], trainPredict[:,0]))\n",
    "print('Train Score: %.2f RMSE' % (trainScore))\n",
    "testScore = math.sqrt(mean_squared_error(testY[0], testPredict[:,0]))\n",
    "print('Test Score: %.2f RMSE' % (testScore))\n",
    "\n",
    "# shift train predictions for plotting\n",
    "trainPredictPlot = np.empty_like(dataset)\n",
    "trainPredictPlot[:, :] = np.nan\n",
    "trainPredictPlot[look_back:len(trainPredict)+look_back, :] = trainPredict\n",
    "# shift test predictions for plotting\n",
    "testPredictPlot = np.empty_like(dataset)\n",
    "testPredictPlot[:, :] = np.nan\n",
    "testPredictPlot[len(trainPredict)+(look_back*2)+1:len(dataset)-1, :] = testPredict\n",
    "# plot baseline and predictions\n",
    "plt.plot(scaler.inverse_transform(dataset))\n",
    "plt.plot(trainPredictPlot)\n",
    "plt.plot(testPredictPlot)\n",
    "plt.show()"
   ]
  },
  {
   "cell_type": "markdown",
   "metadata": {},
   "source": [
    "<h1 style=\"font-size:3em; text-align: center\">Making The LSTM-RNN Fit The Original Data</h1>\n",
    "\n",
    "At first, I renamed many of the variables from the above to distinguish between the separate cases. However, I decided it more efficient to generalize the LSTM-RNN into a function for simpification"
   ]
  },
  {
   "cell_type": "markdown",
   "metadata": {},
   "source": [
    "## Seeding for Reproducable Results"
   ]
  },
  {
   "cell_type": "code",
   "execution_count": null,
   "metadata": {
    "collapsed": true
   },
   "outputs": [],
   "source": [
    "np.random.seed(69)"
   ]
  },
  {
   "cell_type": "markdown",
   "metadata": {},
   "source": [
    "## Loads the Original Data Set, and Prepares Them for the Neural Network"
   ]
  },
  {
   "cell_type": "code",
   "execution_count": 19,
   "metadata": {
    "collapsed": true
   },
   "outputs": [],
   "source": [
    "# The interval between each dataset (original data in 5 minute intervals)\n",
    "time_grouping = '15min'\n",
    "\n",
    "# load the dataset\n",
    "car_dataframe = pd.read_csv('ignored_assets/paxout_table.csv', engine='python', nrows=2000)\n",
    "car_dataframe['time_bucket'] = pd.to_datetime(car_dataframe['time_bucket'])\n",
    "car_dataframe = car_dataframe.set_index('time_bucket')\n",
    "car_dataframe['total'] = car_dataframe.sum(axis=1)\n",
    "car_dataframe['day_hour'] = car_dataframe.index.round(time_grouping)\n",
    "\n",
    "# datasets for two districts in particular\n",
    "car_dataframe_station_1 = car_dataframe[['1afd7afbc81ecc1b13886a569d869e8a', 'day_hour']].groupby('day_hour').sum();\n",
    "car_dataset_station_1 = car_dataframe_station_1.values\n",
    "car_dataset_station_1 = car_dataset_station_1.astype('float32')\n",
    "\n",
    "car_dataframe_station_2 = car_dataframe[['d4ec2125aff74eded207d2d915ef682f', 'day_hour']].groupby('day_hour').sum();\n",
    "car_dataset_station_2 = car_dataframe_station_2.values\n",
    "car_dataset_station_2 = car_dataset_station_2.astype('float32')\n",
    "\n",
    "# The data set with the sum of all the cars out at the \n",
    "car_dataframe = car_dataframe[['total','day_hour']].groupby('day_hour').sum()\n",
    "\n",
    "car_dataset = car_dataframe.values\n",
    "car_dataset = car_dataset.astype('float32')"
   ]
  },
  {
   "cell_type": "markdown",
   "metadata": {},
   "source": [
    "## Generalized the Above Described Process to Work With Most Datasets"
   ]
  },
  {
   "cell_type": "code",
   "execution_count": null,
   "metadata": {
    "collapsed": true
   },
   "outputs": [],
   "source": [
    "def trainAndPredict(dataset, look_back=1, num_epochs=100):\n",
    "    # normalize the dataset\n",
    "    scaler = MinMaxScaler(feature_range=(0, 1))\n",
    "    dataset = scaler.fit_transform(dataset)\n",
    "    \n",
    "    # split into train and test sets\n",
    "    train_size = int(len(dataset) * 0.67)\n",
    "    test_size = len(dataset) - train_size\n",
    "    train, test = dataset[0:train_size,:], dataset[train_size:len(dataset),:]\n",
    "    print(len(train), len(test))\n",
    "\n",
    "    # reshape into X=t and Y=t+1\n",
    "    trainX, trainY = create_dataset(train, look_back)\n",
    "    testX, testY = create_dataset(test, look_back)\n",
    "\n",
    "    # reshape input to be [samples, time steps, features]\n",
    "    trainX = np.reshape(trainX, (trainX.shape[0], 1, trainX.shape[1]))\n",
    "    testX = np.reshape(testX, (testX.shape[0], 1, testX.shape[1]))\n",
    "    \n",
    "    # create and fit the LSTM network\n",
    "    model = Sequential()\n",
    "    model.add(LSTM(4, input_shape=(1, look_back)))\n",
    "    model.add(Dense(1))\n",
    "    model.compile(loss='mean_squared_error', optimizer='adam')\n",
    "    model.fit(trainX, trainY, epochs=num_epochs, batch_size=1, verbose=2)\n",
    "    \n",
    "    # make predictions\n",
    "    trainPredict = model.predict(trainX)\n",
    "    testPredict = model.predict(testX)\n",
    "    # invert predictions\n",
    "    trainPredict = scaler.inverse_transform(trainPredict)\n",
    "    trainY = scaler.inverse_transform([trainY])\n",
    "    testPredict = scaler.inverse_transform(testPredict)\n",
    "    testY = scaler.inverse_transform([testY])\n",
    "    # calculate root mean squared error\n",
    "    trainScore = math.sqrt(mean_squared_error(trainY[0], trainPredict[:,0]))\n",
    "    print('Train Score: %.2f RMSE' % (trainScore))\n",
    "    testScore = math.sqrt(mean_squared_error(testY[0], testPredict[:,0]))\n",
    "    print('Test Score: %.2f RMSE' % (testScore))\n",
    "    \n",
    "    # shift train predictions for plotting\n",
    "    trainPredictPlot = np.empty_like(dataset)\n",
    "    trainPredictPlot[:, :] = np.nan\n",
    "    trainPredictPlot[look_back:len(trainPredict)+look_back, :] = trainPredict\n",
    "    # shift test predictions for plotting\n",
    "    testPredictPlot = np.empty_like(dataset)\n",
    "    testPredictPlot[:, :] = np.nan\n",
    "    testPredictPlot[len(trainPredict)+(look_back*2)+1:len(dataset)-1, :] = testPredict\n",
    "    # plot baseline and predictions\n",
    "    plt.plot(scaler.inverse_transform(dataset))\n",
    "    plt.plot(trainPredictPlot)\n",
    "    plt.plot(testPredictPlot)\n",
    "    plt.show()\n",
    "    \n",
    "    return model\n"
   ]
  },
  {
   "cell_type": "code",
   "execution_count": null,
   "metadata": {
    "collapsed": true
   },
   "outputs": [],
   "source": [
    "np.random.seed(69)\n",
    "training_model = trainAndPredict(car_dataset, look_back=20, num_epochs=5)"
   ]
  },
  {
   "cell_type": "code",
   "execution_count": null,
   "metadata": {
    "collapsed": true
   },
   "outputs": [],
   "source": [
    "np.random.seed(69)\n",
    "trainAndPredict(car_dataset_station_1, look_back=20, num_epochs=5)"
   ]
  },
  {
   "cell_type": "code",
   "execution_count": null,
   "metadata": {
    "collapsed": true
   },
   "outputs": [],
   "source": [
    "np.random.seed(69)\n",
    "trainAndPredict(car_dataset_station_2, look_back=20, num_epochs=5)"
   ]
  },
  {
   "cell_type": "markdown",
   "metadata": {},
   "source": [
    "# The Prediction Function\n",
    "\n",
    "This function uses a given trained LSTM model and data to implements a recursive forecasting method, where the output of the previous forecast is then fed into the next, as shown below.\n",
    "<pre>\n",
    "prediction(t+1) = model(obs(t-1), obs(t-2), ..., obs(t-n))\n",
    "prediction(t+2) = model(prediction(t+1), obs(t-1), ..., obs(t-n))\n",
    "</pre>\n",
    "The function then returns a 1-D array with the forecasted values for the next two hours, estimating a value every 15 minutes\n",
    "\n",
    "<table> \n",
    "  <tr>\n",
    "    <th>Variables</th>\n",
    "    <th>Description</th>\n",
    "  </tr>\n",
    "  <tr>\n",
    "    <td style=\"text-align:left\"><b>model </b></td>\n",
    "    <td style=\"text-align:left\"> The Keras Model that has been previously trained </td>\n",
    "  </tr>\n",
    "  <tr>\n",
    "    <td style=\"text-align:left\"><b>data </b></td>\n",
    "    <td style=\"text-align:left\"> A 2-D NumPy Array with data for the previous times in the first row </td>\n",
    "  </tr>\n",
    "  <tr>\n",
    "    <td style=\"text-align:left\"><b>time_group (opt) </b></td>\n",
    "    <td style=\"text-align:left\"> (def = <i>time_grouping</i>) the time grouping for the valies  </td>\n",
    "  </tr>\n",
    "</table>\n",
    "\n",
    "<br/>\n",
    "<b>@returns</b> - 1-D array for the expected next two hours"
   ]
  },
  {
   "cell_type": "code",
   "execution_count": null,
   "metadata": {
    "collapsed": true
   },
   "outputs": [],
   "source": [
    "def predictNext2Hours (model, dataset, time_group=time_grouping):\n",
    "    dataset.astype('float32')\n",
    "    predictions = []\n",
    "    \n",
    "    # for as many times as it takes until the number of predictions x time_group >= 2 hours\n",
    "    for i in range(20):\n",
    "        # normalize the dataset\n",
    "        scaler = MinMaxScaler(feature_range=(0, 1))\n",
    "        dataset = dataset.transpose()\n",
    "        dataset = scaler.fit_transform(dataset)\n",
    "        dataset = dataset.transpose()\n",
    "        \n",
    "        # reshape the dataset\n",
    "        data = dataset.T\n",
    "        data = data.reshape(1, 1, data.shape[0])\n",
    "        \n",
    "        # make a prediction\n",
    "        prediction = model.predict(data)\n",
    "        \n",
    "        # take out the first element, add the prediction to the end\n",
    "        dataset[0][0:len(dataset[0])-1] = dataset[0][ 1: len(dataset[0])]\n",
    "        dataset[0, len(dataset[0])-1] = prediction\n",
    "        \n",
    "        # un-normalize the data set\n",
    "        dataset = dataset.transpose()\n",
    "        dataset = scaler.inverse_transform(dataset)\n",
    "        dataset = dataset.transpose()\n",
    "        # push the prediction into the array of predictions\n",
    "        predictions.append(dataset[0, len(dataset[0])-1])\n",
    "        \n",
    "        # repeat\n",
    "    \n",
    "    return np.array(predictions)"
   ]
  },
  {
   "cell_type": "markdown",
   "metadata": {},
   "source": [
    "## We Attempt the Recusive Forecasting with the Model\n",
    "\n",
    "We provide a sample of the real data and graph the resulting one dimensional array onto of the true data ontop of it"
   ]
  },
  {
   "cell_type": "code",
   "execution_count": null,
   "metadata": {
    "collapsed": true
   },
   "outputs": [],
   "source": [
    "pred = predictNext2Hours (training_model, np.array([[2494,2024,1697,1408,1117,913,794,621,535,400,372,332,300,247,180,167,182,207,251,474]]))\n",
    "plt.plot(actu[:,0])\n",
    "plt.plot(pred, color=\"red\")\n",
    "plt.show()\n",
    "\n",
    "testScore = math.sqrt(mean_squared_error(actu[:,0], pred))\n",
    "print('%.2f RMSE' % (testScore))\n"
   ]
  }
 ],
 "metadata": {
  "kernelspec": {
   "display_name": "Python 2",
   "language": "python",
   "name": "python2"
  },
  "language_info": {
   "codemirror_mode": {
    "name": "ipython",
    "version": 2
   },
   "file_extension": ".py",
   "mimetype": "text/x-python",
   "name": "python",
   "nbconvert_exporter": "python",
   "pygments_lexer": "ipython2",
   "version": "2.7.13"
  }
 },
 "nbformat": 4,
 "nbformat_minor": 2
}
