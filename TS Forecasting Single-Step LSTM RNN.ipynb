{
 "cells": [
  {
   "cell_type": "markdown",
   "metadata": {},
   "source": [
    "# Creating a Time Series Forecast in Python\n",
    "\n",
    "https://www.analyticsvidhya.com/blog/2016/02/time-series-forecasting-codes-python/\n",
    "\n",
    "Sources:\n",
    "http://machinelearningmastery.com/time-series-prediction-lstm-recurrent-neural-networks-python-keras/"
   ]
  },
  {
   "cell_type": "markdown",
   "metadata": {},
   "source": [
    "### Imports Python Libraries"
   ]
  },
  {
   "cell_type": "code",
   "execution_count": 881,
   "metadata": {
    "collapsed": true
   },
   "outputs": [],
   "source": [
    "# imports\n",
    "\n",
    "import numpy             as np\n",
    "import matplotlib.pyplot as plt\n",
    "import pandas            as pd\n",
    "import math\n",
    "import keras\n",
    "\n",
    "# jupyter command - allows plots to show up\n",
    "%matplotlib inline\n",
    "\n",
    "from matplotlib.pylab import rcParams\n",
    "rcParams['figure.figsize'] = 15, 6\n",
    "\n",
    "from keras.models import Sequential\n",
    "from keras.layers import Dense\n",
    "from keras.layers import LSTM\n",
    "from sklearn.preprocessing import MinMaxScaler\n",
    "from sklearn.metrics       import mean_squared_error\n",
    "from datetime import datetime"
   ]
  },
  {
   "cell_type": "markdown",
   "metadata": {},
   "source": [
    "### Assigns a Seed to Ensure reproducable results"
   ]
  },
  {
   "cell_type": "code",
   "execution_count": 882,
   "metadata": {
    "collapsed": true
   },
   "outputs": [],
   "source": [
    "# fixes the random number seed to ensure reproducible results\n",
    "np.random.seed(69)"
   ]
  },
  {
   "cell_type": "markdown",
   "metadata": {},
   "source": [
    "### Imports a csv data set using Panda"
   ]
  },
  {
   "cell_type": "code",
   "execution_count": 883,
   "metadata": {
    "collapsed": true
   },
   "outputs": [],
   "source": [
    "# load the dataset\n",
    "#dataframe = pd.read_csv('ignored_assets/AirPassengers.csv', usecols=[1], engine='python', skipfooter=3)\n",
    "#dataset = dataframe.values\n",
    "#dataset = dataset.astype('float32')\n",
    "\n",
    "\n",
    "# The interval between each dataset (original data in 5 minute intervals)\n",
    "time_grouping = '15min'\n",
    "\n",
    "# load the dataset\n",
    "dataframe = pd.read_csv('ignored_assets/paxout_table.csv', engine='python', nrows=300)\n",
    "dataframe['time_bucket'] = pd.to_datetime(dataframe['time_bucket'])\n",
    "dataframe = dataframe.set_index('time_bucket')\n",
    "dataframe['total'] = dataframe.sum(axis=1)\n",
    "dataframe['day_hour'] = dataframe.index.round(time_grouping)\n",
    "\n",
    "\n",
    "# The data set with the sum of all the cars out at the \n",
    "dataframe = dataframe[['total','day_hour']].groupby('day_hour').sum()\n",
    "\n",
    "dataset = dataframe.values\n",
    "dataset = dataset.astype('float32')"
   ]
  },
  {
   "cell_type": "markdown",
   "metadata": {},
   "source": [
    "### LSTM-RNN is sensitive to large numbers, so normalizing is a good idea"
   ]
  },
  {
   "cell_type": "code",
   "execution_count": 884,
   "metadata": {
    "collapsed": true
   },
   "outputs": [],
   "source": [
    "# normalize the dataset\n",
    "scaler = MinMaxScaler(feature_range=(0, 1))\n",
    "dataset = scaler.fit_transform(dataset)"
   ]
  },
  {
   "cell_type": "markdown",
   "metadata": {},
   "source": [
    "### Splits the data into training (first 2/3) and test sets (last 1/3)"
   ]
  },
  {
   "cell_type": "code",
   "execution_count": 885,
   "metadata": {},
   "outputs": [
    {
     "name": "stdout",
     "output_type": "stream",
     "text": [
      "(67, 34)\n"
     ]
    }
   ],
   "source": [
    "# split into train and test sets\n",
    "train_size = int(len(dataset) * 0.67)\n",
    "test_size = len(dataset) - train_size\n",
    "train, test = dataset[0:train_size,:], dataset[train_size:len(dataset),:]\n",
    "print(len(train), len(test))"
   ]
  },
  {
   "cell_type": "markdown",
   "metadata": {
    "collapsed": true
   },
   "source": [
    "### This fn takes two args and returns two datasets: \n",
    "\n",
    "A numpy array to be converted into a dataset, and the look_back (default to 1) which his the number of previous values used to predict the next value.\n"
   ]
  },
  {
   "cell_type": "code",
   "execution_count": 886,
   "metadata": {
    "collapsed": true
   },
   "outputs": [],
   "source": [
    "# convert an array of values into a dataset matrix\n",
    "def create_dataset(dataset, look_back=1):\n",
    "\tdataX, dataY = [], []\n",
    "\tfor i in range(len(dataset)-look_back-1):\n",
    "\t\ta = dataset[i:(i+look_back), 0]\n",
    "\t\tdataX.append(a)\n",
    "\t\tdataY.append(dataset[i + look_back, 0])\n",
    "\treturn np.array(dataX), np.array(dataY)"
   ]
  },
  {
   "cell_type": "markdown",
   "metadata": {},
   "source": [
    "### Uses the Above Function to Create the Training and Test sets"
   ]
  },
  {
   "cell_type": "code",
   "execution_count": 887,
   "metadata": {
    "collapsed": true
   },
   "outputs": [],
   "source": [
    "# reshape into X=t and Y=t+1\n",
    "look_back = 3\n",
    "trainX, trainY = create_dataset(train, look_back)\n",
    "testX, testY = create_dataset(test, look_back)"
   ]
  },
  {
   "cell_type": "code",
   "execution_count": null,
   "metadata": {
    "collapsed": true
   },
   "outputs": [],
   "source": []
  },
  {
   "cell_type": "raw",
   "metadata": {},
   "source": []
  },
  {
   "cell_type": "markdown",
   "metadata": {},
   "source": [
    "### The Data Sets are in the Form [samples] [features] so We Reshape to be [samples, time-steps, features]\n",
    "\n",
    "<b>Samples</b>: Each incident\n",
    "<br/>\n",
    "<b>Time Steps</b>: The observations that led up to the incident\n",
    "<br/>\n",
    "<b>Features</b>: The variables (or the data) observed"
   ]
  },
  {
   "cell_type": "code",
   "execution_count": 888,
   "metadata": {
    "collapsed": true
   },
   "outputs": [],
   "source": [
    "# reshape input to be [samples, time steps, features]\n",
    "trainX = np.reshape(trainX, (trainX.shape[0], 1, trainX.shape[1]))\n",
    "testX = np.reshape(testX, (testX.shape[0], 1, testX.shape[1]))"
   ]
  },
  {
   "cell_type": "code",
   "execution_count": 889,
   "metadata": {},
   "outputs": [
    {
     "data": {
      "text/plain": [
       "0.68727416"
      ]
     },
     "execution_count": 889,
     "metadata": {},
     "output_type": "execute_result"
    }
   ],
   "source": [
    "trainX[0,0,2]"
   ]
  },
  {
   "cell_type": "raw",
   "metadata": {},
   "source": []
  },
  {
   "cell_type": "markdown",
   "metadata": {},
   "source": [
    "### Uses the LSTM RNN from the Keras Library to Train a Neural Network with the Training Set\n"
   ]
  },
  {
   "cell_type": "code",
   "execution_count": 890,
   "metadata": {},
   "outputs": [
    {
     "name": "stdout",
     "output_type": "stream",
     "text": [
      "Epoch 1/100\n",
      "1s - loss: 0.0419\n",
      "Epoch 2/100\n",
      "0s - loss: 0.0154\n",
      "Epoch 3/100\n",
      "0s - loss: 0.0113\n",
      "Epoch 4/100\n",
      "0s - loss: 0.0100\n",
      "Epoch 5/100\n",
      "0s - loss: 0.0090\n",
      "Epoch 6/100\n",
      "0s - loss: 0.0083\n",
      "Epoch 7/100\n",
      "0s - loss: 0.0078\n",
      "Epoch 8/100\n",
      "0s - loss: 0.0076\n",
      "Epoch 9/100\n",
      "0s - loss: 0.0074\n",
      "Epoch 10/100\n",
      "0s - loss: 0.0071\n",
      "Epoch 11/100\n",
      "0s - loss: 0.0069\n",
      "Epoch 12/100\n",
      "0s - loss: 0.0069\n",
      "Epoch 13/100\n",
      "0s - loss: 0.0068\n",
      "Epoch 14/100\n",
      "0s - loss: 0.0067\n",
      "Epoch 15/100\n",
      "0s - loss: 0.0066\n",
      "Epoch 16/100\n",
      "0s - loss: 0.0066\n",
      "Epoch 17/100\n",
      "0s - loss: 0.0066\n",
      "Epoch 18/100\n",
      "0s - loss: 0.0064\n",
      "Epoch 19/100\n",
      "0s - loss: 0.0063\n",
      "Epoch 20/100\n",
      "0s - loss: 0.0065\n",
      "Epoch 21/100\n",
      "0s - loss: 0.0062\n",
      "Epoch 22/100\n",
      "0s - loss: 0.0061\n",
      "Epoch 23/100\n",
      "0s - loss: 0.0062\n",
      "Epoch 24/100\n",
      "0s - loss: 0.0062\n",
      "Epoch 25/100\n",
      "0s - loss: 0.0061\n",
      "Epoch 26/100\n",
      "0s - loss: 0.0058\n",
      "Epoch 27/100\n",
      "0s - loss: 0.0058\n",
      "Epoch 28/100\n",
      "0s - loss: 0.0057\n",
      "Epoch 29/100\n",
      "0s - loss: 0.0058\n",
      "Epoch 30/100\n",
      "0s - loss: 0.0057\n",
      "Epoch 31/100\n",
      "0s - loss: 0.0056\n",
      "Epoch 32/100\n",
      "0s - loss: 0.0055\n",
      "Epoch 33/100\n",
      "0s - loss: 0.0056\n",
      "Epoch 34/100\n",
      "0s - loss: 0.0054\n",
      "Epoch 35/100\n",
      "0s - loss: 0.0053\n",
      "Epoch 36/100\n",
      "0s - loss: 0.0055\n",
      "Epoch 37/100\n",
      "0s - loss: 0.0053\n",
      "Epoch 38/100\n",
      "0s - loss: 0.0053\n",
      "Epoch 39/100\n",
      "0s - loss: 0.0051\n",
      "Epoch 40/100\n",
      "0s - loss: 0.0051\n",
      "Epoch 41/100\n",
      "0s - loss: 0.0050\n",
      "Epoch 42/100\n",
      "0s - loss: 0.0050\n",
      "Epoch 43/100\n",
      "0s - loss: 0.0049\n",
      "Epoch 44/100\n",
      "0s - loss: 0.0048\n",
      "Epoch 45/100\n",
      "0s - loss: 0.0047\n",
      "Epoch 46/100\n",
      "0s - loss: 0.0048\n",
      "Epoch 47/100\n",
      "0s - loss: 0.0049\n",
      "Epoch 48/100\n",
      "0s - loss: 0.0046\n",
      "Epoch 49/100\n",
      "0s - loss: 0.0046\n",
      "Epoch 50/100\n",
      "0s - loss: 0.0046\n",
      "Epoch 51/100\n",
      "0s - loss: 0.0047\n",
      "Epoch 52/100\n",
      "0s - loss: 0.0044\n",
      "Epoch 53/100\n",
      "0s - loss: 0.0045\n",
      "Epoch 54/100\n",
      "0s - loss: 0.0043\n",
      "Epoch 55/100\n",
      "0s - loss: 0.0045\n",
      "Epoch 56/100\n",
      "0s - loss: 0.0044\n",
      "Epoch 57/100\n",
      "0s - loss: 0.0042\n",
      "Epoch 58/100\n",
      "0s - loss: 0.0043\n",
      "Epoch 59/100\n",
      "0s - loss: 0.0041\n",
      "Epoch 60/100\n",
      "0s - loss: 0.0041\n",
      "Epoch 61/100\n",
      "0s - loss: 0.0040\n",
      "Epoch 62/100\n",
      "0s - loss: 0.0041\n",
      "Epoch 63/100\n",
      "0s - loss: 0.0040\n",
      "Epoch 64/100\n",
      "0s - loss: 0.0040\n",
      "Epoch 65/100\n",
      "0s - loss: 0.0039\n",
      "Epoch 66/100\n",
      "0s - loss: 0.0038\n",
      "Epoch 67/100\n",
      "0s - loss: 0.0038\n",
      "Epoch 68/100\n",
      "0s - loss: 0.0037\n",
      "Epoch 69/100\n",
      "0s - loss: 0.0037\n",
      "Epoch 70/100\n",
      "0s - loss: 0.0037\n",
      "Epoch 71/100\n",
      "0s - loss: 0.0036\n",
      "Epoch 72/100\n",
      "0s - loss: 0.0035\n",
      "Epoch 73/100\n",
      "0s - loss: 0.0035\n",
      "Epoch 74/100\n",
      "0s - loss: 0.0036\n",
      "Epoch 75/100\n",
      "0s - loss: 0.0034\n",
      "Epoch 76/100\n",
      "0s - loss: 0.0034\n",
      "Epoch 77/100\n",
      "0s - loss: 0.0035\n",
      "Epoch 78/100\n",
      "0s - loss: 0.0034\n",
      "Epoch 79/100\n",
      "0s - loss: 0.0033\n",
      "Epoch 80/100\n",
      "0s - loss: 0.0032\n",
      "Epoch 81/100\n",
      "0s - loss: 0.0033\n",
      "Epoch 82/100\n",
      "0s - loss: 0.0032\n",
      "Epoch 83/100\n",
      "0s - loss: 0.0031\n",
      "Epoch 84/100\n",
      "0s - loss: 0.0032\n",
      "Epoch 85/100\n",
      "0s - loss: 0.0031\n",
      "Epoch 86/100\n",
      "0s - loss: 0.0031\n",
      "Epoch 87/100\n",
      "0s - loss: 0.0030\n",
      "Epoch 88/100\n",
      "0s - loss: 0.0030\n",
      "Epoch 89/100\n",
      "0s - loss: 0.0029\n",
      "Epoch 90/100\n",
      "0s - loss: 0.0029\n",
      "Epoch 91/100\n",
      "0s - loss: 0.0028\n",
      "Epoch 92/100\n",
      "0s - loss: 0.0029\n",
      "Epoch 93/100\n",
      "0s - loss: 0.0027\n",
      "Epoch 94/100\n",
      "0s - loss: 0.0028\n",
      "Epoch 95/100\n",
      "0s - loss: 0.0029\n",
      "Epoch 96/100\n",
      "0s - loss: 0.0027\n",
      "Epoch 97/100\n",
      "0s - loss: 0.0026\n",
      "Epoch 98/100\n",
      "0s - loss: 0.0026\n",
      "Epoch 99/100\n",
      "0s - loss: 0.0026\n",
      "Epoch 100/100\n",
      "0s - loss: 0.0026\n"
     ]
    },
    {
     "data": {
      "text/plain": [
       "<keras.callbacks.History at 0x7f9e7487ad50>"
      ]
     },
     "execution_count": 890,
     "metadata": {},
     "output_type": "execute_result"
    }
   ],
   "source": [
    "# create and fit the LSTM network\n",
    "model = Sequential()\n",
    "model.add(LSTM(4, input_shape=(1, look_back)))\n",
    "model.add(Dense(1))\n",
    "model.compile(loss='mean_squared_error', optimizer='adam')\n",
    "model.fit(trainX, trainY, epochs=100, batch_size=1, verbose=2)"
   ]
  },
  {
   "cell_type": "code",
   "execution_count": 891,
   "metadata": {},
   "outputs": [
    {
     "data": {
      "text/plain": [
       "array([[ 0.50177026]], dtype=float32)"
      ]
     },
     "execution_count": 891,
     "metadata": {},
     "output_type": "execute_result"
    }
   ],
   "source": [
    "model.predict(np.array([[[0,1,0.5]]]))"
   ]
  },
  {
   "cell_type": "markdown",
   "metadata": {},
   "source": [
    "### With the Model Trained Above, We Have the Model Attempt to Generate the Last Third"
   ]
  },
  {
   "cell_type": "code",
   "execution_count": 892,
   "metadata": {},
   "outputs": [
    {
     "name": "stdout",
     "output_type": "stream",
     "text": [
      "Train Score: 247.43 RMSE\n",
      "Test Score: 228.23 RMSE\n"
     ]
    }
   ],
   "source": [
    "# make predictions\n",
    "trainPredict = model.predict(trainX)\n",
    "testPredict = model.predict(testX)\n",
    "# invert predictions\n",
    "trainPredict = scaler.inverse_transform(trainPredict)\n",
    "trainY = scaler.inverse_transform([trainY])\n",
    "testPredict = scaler.inverse_transform(testPredict)\n",
    "testY = scaler.inverse_transform([testY])\n",
    "# calculate root mean squared error\n",
    "trainScore = math.sqrt(mean_squared_error(trainY[0], trainPredict[:,0]))\n",
    "print('Train Score: %.2f RMSE' % (trainScore))\n",
    "testScore = math.sqrt(mean_squared_error(testY[0], testPredict[:,0]))\n",
    "print('Test Score: %.2f RMSE' % (testScore))"
   ]
  },
  {
   "cell_type": "code",
   "execution_count": 901,
   "metadata": {},
   "outputs": [
    {
     "data": {
      "text/plain": [
       "1.125"
      ]
     },
     "execution_count": 901,
     "metadata": {},
     "output_type": "execute_result"
    }
   ],
   "source": []
  },
  {
   "cell_type": "code",
   "execution_count": 896,
   "metadata": {},
   "outputs": [
    {
     "data": {
      "text/plain": [
       "array([ 3502.73901367,  3265.51806641,  2999.41040039,  2652.54052734,\n",
       "        2510.86474609,  2095.2578125 ,  1767.23364258,  1463.87414551,\n",
       "        1176.81066895,   961.46044922,   822.64227295,   665.95733643,\n",
       "         572.02813721,   453.33850098,   409.04486084,   367.29415894,\n",
       "         338.2951355 ,   295.66757202,   258.53250122,   232.40844727,\n",
       "         217.27261353,   223.25862122,   240.4019165 ,   273.72247314,\n",
       "         430.91903687,   596.98077393,   798.28118896,  1134.51989746,\n",
       "        1449.32104492,  1852.92333984,  2031.94226074,  2352.84814453,\n",
       "        2575.30908203,  2778.55249023,  2733.90771484,  2832.31982422,\n",
       "        2859.27075195,  2739.12304688,  2788.83813477,  2771.83422852,\n",
       "        2835.54467773,  2867.97070312,  2939.11352539,  2913.43261719,\n",
       "        3007.92553711,  3128.74731445,  3158.37182617,  3256.03955078,\n",
       "        3285.94970703,  3302.48266602,  3356.64355469,  3450.35839844,\n",
       "        3411.76635742,  3507.95556641,  3417.04394531,  3490.43994141,\n",
       "        3472.53076172,  3410.3034668 ,  3412.54736328,  3326.25415039,\n",
       "        4025.92724609,  4335.06640625,  4175.72412109], dtype=float32)"
      ]
     },
     "execution_count": 896,
     "metadata": {},
     "output_type": "execute_result"
    }
   ],
   "source": [
    "trainPredict[:,0]"
   ]
  },
  {
   "cell_type": "code",
   "execution_count": 407,
   "metadata": {},
   "outputs": [
    {
     "data": {
      "image/png": "[encoded data removed]",
      "text/plain": [
       "<matplotlib.figure.Figure at 0x7f9e84788e50>"
      ]
     },
     "metadata": {},
     "output_type": "display_data"
    }
   ],
   "source": [
    "# shift train predictions for plotting\n",
    "trainPredictPlot = np.empty_like(dataset)\n",
    "trainPredictPlot[:, :] = np.nan\n",
    "trainPredictPlot[look_back:len(trainPredict)+look_back, :] = trainPredict\n",
    "# shift test predictions for plotting\n",
    "testPredictPlot = np.empty_like(dataset)\n",
    "testPredictPlot[:, :] = np.nan\n",
    "testPredictPlot[len(trainPredict)+(look_back*2)+1:len(dataset)-1, :] = testPredict\n",
    "# plot baseline and predictions\n",
    "plt.plot(scaler.inverse_transform(dataset))\n",
    "plt.plot(trainPredictPlot)\n",
    "plt.plot(testPredictPlot)\n",
    "plt.show()"
   ]
  },
  {
   "cell_type": "markdown",
   "metadata": {},
   "source": [
    "<h1 style=\"font-size:3em; text-align: center\">Making The LSTM-RNN Fit The Original Data</h1>\n",
    "\n",
    "At first, I renamed many of the variables from the above to distinguish between the separate cases. However, I decided it more efficient to generalize the LSTM-RNN into a function for simpification"
   ]
  },
  {
   "cell_type": "markdown",
   "metadata": {},
   "source": [
    "## Again With The Seeding for Reproducable Results"
   ]
  },
  {
   "cell_type": "code",
   "execution_count": 6,
   "metadata": {
    "collapsed": true
   },
   "outputs": [],
   "source": [
    "np.random.seed(69)"
   ]
  },
  {
   "cell_type": "markdown",
   "metadata": {},
   "source": [
    "## Loads the Original Data Set, and Prepares them for the Neural Network"
   ]
  },
  {
   "cell_type": "code",
   "execution_count": 203,
   "metadata": {
    "collapsed": true
   },
   "outputs": [],
   "source": [
    "# The interval between each dataset (original data in 5 minute intervals)\n",
    "time_grouping = '15min'\n",
    "\n",
    "# load the dataset\n",
    "car_dataframe = pd.read_csv('ignored_assets/paxout_table.csv', engine='python', nrows=2000)\n",
    "car_dataframe['time_bucket'] = pd.to_datetime(car_dataframe['time_bucket'])\n",
    "car_dataframe = car_dataframe.set_index('time_bucket')\n",
    "car_dataframe['total'] = car_dataframe.sum(axis=1)\n",
    "car_dataframe['day_hour'] = car_dataframe.index.round(time_grouping)\n",
    "\n",
    "# datasets for two districts in particular\n",
    "car_dataframe_station_1 = car_dataframe[['1afd7afbc81ecc1b13886a569d869e8a', 'day_hour']].groupby('day_hour').sum();\n",
    "car_dataset_station_1 = car_dataframe_station_1.values\n",
    "car_dataset_station_1 = car_dataset_station_1.astype('float32')\n",
    "\n",
    "car_dataframe_station_2 = car_dataframe[['d4ec2125aff74eded207d2d915ef682f', 'day_hour']].groupby('day_hour').sum();\n",
    "car_dataset_station_2 = car_dataframe_station_2.values\n",
    "car_dataset_station_2 = car_dataset_station_2.astype('float32')\n",
    "\n",
    "# The data set with the sum of all the cars out at the \n",
    "car_dataframe = car_dataframe[['total','day_hour']].groupby('day_hour').sum()\n",
    "\n",
    "car_dataset = car_dataframe.values\n",
    "car_dataset = car_dataset.astype('float32')"
   ]
  },
  {
   "cell_type": "code",
   "execution_count": 204,
   "metadata": {
    "collapsed": true
   },
   "outputs": [
    {
     "data": {
      "text/plain": [
       "array([[ 1549.],\n",
       "       [ 4299.],\n",
       "       [ 3591.],\n",
       "       [ 3224.],\n",
       "       [ 2971.],\n",
       "       [ 2599.],\n",
       "       [ 2494.],\n",
       "       [ 2024.],\n",
       "       [ 1697.],\n",
       "       [ 1408.],\n",
       "       [ 1117.],\n",
       "       [  913.],\n",
       "       [  794.],\n",
       "       [  621.],\n",
       "       [  535.],\n",
       "       [  400.],\n",
       "       [  372.],\n",
       "       [  332.],\n",
       "       [  300.],\n",
       "       [  247.],\n",
       "       [  205.],\n",
       "       [  180.],\n",
       "       [  167.],\n",
       "       [  182.],\n",
       "       [  207.],\n",
       "       [  251.],\n",
       "       [  474.],\n",
       "       [  663.],\n",
       "       [  881.],\n",
       "       [ 1269.],\n",
       "       [ 1577.],\n",
       "       [ 1990.],\n",
       "       [ 2109.],\n",
       "       [ 2450.],\n",
       "       [ 2655.],\n",
       "       [ 2847.],\n",
       "       [ 2751.],\n",
       "       [ 2873.],\n",
       "       [ 2894.],\n",
       "       [ 2737.],\n",
       "       [ 2819.],\n",
       "       [ 2796.],\n",
       "       [ 2872.],\n",
       "       [ 2902.],\n",
       "       [ 2980.],\n",
       "       [ 2936.],\n",
       "       [ 3053.],\n",
       "       [ 3187.],\n",
       "       [ 3199.],\n",
       "       [ 3310.],\n",
       "       [ 3332.],\n",
       "       [ 3344.],\n",
       "       [ 3408.],\n",
       "       [ 3515.],\n",
       "       [ 3452.],\n",
       "       [ 3573.],\n",
       "       [ 3450.],\n",
       "       [ 3549.],\n",
       "       [ 3521.],\n",
       "       [ 3443.],\n",
       "       [ 3456.],\n",
       "       [ 3352.],\n",
       "       [ 4238.],\n",
       "       [ 4531.],\n",
       "       [ 4282.],\n",
       "       [ 4147.],\n",
       "       [ 4448.],\n",
       "       [ 4688.],\n",
       "       [ 4945.],\n",
       "       [ 4877.],\n",
       "       [ 5149.],\n",
       "       [ 4919.],\n",
       "       [ 4804.],\n",
       "       [ 4688.],\n",
       "       [ 4509.],\n",
       "       [ 4248.],\n",
       "       [ 4104.],\n",
       "       [ 4109.],\n",
       "       [ 3963.],\n",
       "       [ 4043.],\n",
       "       [ 4148.],\n",
       "       [ 4180.],\n",
       "       [ 4304.],\n",
       "       [ 4127.],\n",
       "       [ 4239.],\n",
       "       [ 4179.],\n",
       "       [ 3997.],\n",
       "       [ 3832.],\n",
       "       [ 3852.],\n",
       "       [ 3400.],\n",
       "       [ 2951.],\n",
       "       [ 2537.],\n",
       "       [ 2174.],\n",
       "       [ 1842.],\n",
       "       [ 1799.],\n",
       "       [ 1591.],\n",
       "       [ 1462.],\n",
       "       [ 1311.],\n",
       "       [ 1149.],\n",
       "       [ 1062.],\n",
       "       [  914.],\n",
       "       [  752.],\n",
       "       [  751.],\n",
       "       [  612.],\n",
       "       [  489.],\n",
       "       [  472.],\n",
       "       [  377.],\n",
       "       [  324.],\n",
       "       [  286.],\n",
       "       [  247.],\n",
       "       [  224.],\n",
       "       [  195.],\n",
       "       [  154.],\n",
       "       [  153.],\n",
       "       [  142.],\n",
       "       [  149.],\n",
       "       [  133.],\n",
       "       [  110.],\n",
       "       [  129.],\n",
       "       [  153.],\n",
       "       [  160.],\n",
       "       [  203.],\n",
       "       [  319.],\n",
       "       [  505.],\n",
       "       [  730.],\n",
       "       [ 1026.],\n",
       "       [ 1449.],\n",
       "       [ 1666.],\n",
       "       [ 1920.],\n",
       "       [ 2232.],\n",
       "       [ 2357.],\n",
       "       [ 2536.],\n",
       "       [ 2349.],\n",
       "       [ 2496.],\n",
       "       [ 2623.],\n",
       "       [ 2676.],\n",
       "       [ 2781.],\n",
       "       [ 2875.],\n",
       "       [ 2853.],\n",
       "       [ 2956.],\n",
       "       [ 2940.],\n",
       "       [ 2959.],\n",
       "       [ 3119.],\n",
       "       [ 3095.],\n",
       "       [ 3085.],\n",
       "       [ 3273.],\n",
       "       [ 3369.],\n",
       "       [ 3528.],\n",
       "       [ 3597.],\n",
       "       [ 3767.],\n",
       "       [ 3911.],\n",
       "       [ 3895.],\n",
       "       [ 3845.],\n",
       "       [ 3820.],\n",
       "       [ 3932.],\n",
       "       [ 3802.],\n",
       "       [ 3730.],\n",
       "       [ 3716.],\n",
       "       [ 3753.],\n",
       "       [ 3888.],\n",
       "       [ 4124.],\n",
       "       [ 4125.],\n",
       "       [ 4373.],\n",
       "       [ 4469.],\n",
       "       [ 4834.],\n",
       "       [ 4934.],\n",
       "       [ 4950.],\n",
       "       [ 4831.],\n",
       "       [ 4583.],\n",
       "       [ 4296.],\n",
       "       [ 4081.],\n",
       "       [ 3883.],\n",
       "       [ 3875.],\n",
       "       [ 3799.],\n",
       "       [ 3718.],\n",
       "       [ 3721.],\n",
       "       [ 3795.],\n",
       "       [ 3848.],\n",
       "       [ 3849.],\n",
       "       [ 3746.],\n",
       "       [ 3797.],\n",
       "       [ 3788.],\n",
       "       [ 3739.],\n",
       "       [ 3594.],\n",
       "       [ 3500.],\n",
       "       [ 3197.],\n",
       "       [ 2648.],\n",
       "       [ 2388.],\n",
       "       [ 2137.],\n",
       "       [ 1735.],\n",
       "       [ 1665.],\n",
       "       [ 1379.],\n",
       "       [ 1278.],\n",
       "       [ 1144.],\n",
       "       [  997.],\n",
       "       [  883.],\n",
       "       [  811.],\n",
       "       [  678.],\n",
       "       [  626.],\n",
       "       [  579.],\n",
       "       [  499.],\n",
       "       [  441.],\n",
       "       [  401.],\n",
       "       [  346.],\n",
       "       [  296.],\n",
       "       [  255.],\n",
       "       [  207.],\n",
       "       [  183.],\n",
       "       [  181.],\n",
       "       [  155.],\n",
       "       [  171.],\n",
       "       [  146.],\n",
       "       [  141.],\n",
       "       [  135.],\n",
       "       [  128.],\n",
       "       [  136.],\n",
       "       [  155.],\n",
       "       [  197.],\n",
       "       [  347.],\n",
       "       [  495.],\n",
       "       [  744.],\n",
       "       [ 1039.],\n",
       "       [ 1566.],\n",
       "       [ 1798.],\n",
       "       [ 2183.],\n",
       "       [ 2491.],\n",
       "       [ 2765.],\n",
       "       [ 2814.],\n",
       "       [ 2469.],\n",
       "       [ 2359.],\n",
       "       [ 2490.],\n",
       "       [ 2542.],\n",
       "       [ 2560.],\n",
       "       [ 2558.],\n",
       "       [ 2679.],\n",
       "       [ 2705.],\n",
       "       [ 2668.],\n",
       "       [ 2775.],\n",
       "       [ 3014.],\n",
       "       [ 3079.],\n",
       "       [ 3253.],\n",
       "       [ 3406.],\n",
       "       [ 3478.],\n",
       "       [ 3489.],\n",
       "       [ 3661.],\n",
       "       [ 3682.],\n",
       "       [ 3895.],\n",
       "       [ 3869.],\n",
       "       [ 4072.],\n",
       "       [ 3937.],\n",
       "       [ 3985.],\n",
       "       [ 4005.],\n",
       "       [ 4000.],\n",
       "       [ 3904.],\n",
       "       [ 4280.],\n",
       "       [ 4193.],\n",
       "       [ 4393.],\n",
       "       [ 4392.],\n",
       "       [ 4521.],\n",
       "       [ 4702.],\n",
       "       [ 4989.],\n",
       "       [ 5088.],\n",
       "       [ 5157.],\n",
       "       [ 4842.],\n",
       "       [ 4710.],\n",
       "       [ 4531.],\n",
       "       [ 4381.],\n",
       "       [ 4278.],\n",
       "       [ 4210.],\n",
       "       [ 4073.],\n",
       "       [ 3922.],\n",
       "       [ 3737.],\n",
       "       [ 4033.],\n",
       "       [ 3963.],\n",
       "       [ 4033.],\n",
       "       [ 3725.],\n",
       "       [ 3699.],\n",
       "       [ 3675.],\n",
       "       [ 3527.],\n",
       "       [ 3187.],\n",
       "       [ 3112.],\n",
       "       [ 2769.],\n",
       "       [ 2537.],\n",
       "       [ 2247.],\n",
       "       [ 1983.],\n",
       "       [ 1590.],\n",
       "       [ 1457.],\n",
       "       [ 1230.],\n",
       "       [ 1077.],\n",
       "       [  941.],\n",
       "       [  784.],\n",
       "       [  758.],\n",
       "       [  646.],\n",
       "       [  548.],\n",
       "       [  466.],\n",
       "       [  450.],\n",
       "       [  411.],\n",
       "       [  337.],\n",
       "       [  260.],\n",
       "       [  256.],\n",
       "       [  251.],\n",
       "       [  182.],\n",
       "       [  158.],\n",
       "       [  137.],\n",
       "       [  135.],\n",
       "       [  139.],\n",
       "       [  115.],\n",
       "       [  147.],\n",
       "       [  119.],\n",
       "       [  115.],\n",
       "       [  143.],\n",
       "       [  136.],\n",
       "       [  194.],\n",
       "       [  240.],\n",
       "       [  740.],\n",
       "       [ 1292.],\n",
       "       [ 2122.],\n",
       "       [ 3178.],\n",
       "       [ 4209.],\n",
       "       [ 4835.],\n",
       "       [ 5536.],\n",
       "       [ 5903.],\n",
       "       [ 6510.],\n",
       "       [ 6685.],\n",
       "       [ 5913.],\n",
       "       [ 5089.],\n",
       "       [ 4024.],\n",
       "       [ 3481.],\n",
       "       [ 2986.],\n",
       "       [ 2961.],\n",
       "       [ 2972.],\n",
       "       [ 2916.],\n",
       "       [ 2885.],\n",
       "       [ 2923.],\n",
       "       [ 3146.],\n",
       "       [ 3085.],\n",
       "       [ 3285.],\n",
       "       [ 3326.],\n",
       "       [ 3334.],\n",
       "       [ 3477.],\n",
       "       [ 3578.],\n",
       "       [ 3782.],\n",
       "       [ 3529.],\n",
       "       [ 3451.],\n",
       "       [ 3361.],\n",
       "       [ 3306.],\n",
       "       [ 3419.],\n",
       "       [ 3312.],\n",
       "       [ 3317.],\n",
       "       [ 3159.],\n",
       "       [ 3702.],\n",
       "       [ 3649.],\n",
       "       [ 3620.],\n",
       "       [ 3782.],\n",
       "       [ 3997.],\n",
       "       [ 4018.],\n",
       "       [ 5346.],\n",
       "       [ 5051.],\n",
       "       [ 5568.],\n",
       "       [ 5439.],\n",
       "       [ 5464.],\n",
       "       [ 5800.],\n",
       "       [ 5049.],\n",
       "       [ 4654.],\n",
       "       [ 4267.],\n",
       "       [ 3869.],\n",
       "       [ 3849.],\n",
       "       [ 3695.],\n",
       "       [ 4012.],\n",
       "       [ 4109.],\n",
       "       [ 3972.],\n",
       "       [ 3923.],\n",
       "       [ 4037.],\n",
       "       [ 3898.],\n",
       "       [ 3682.],\n",
       "       [ 3360.],\n",
       "       [ 3294.],\n",
       "       [ 2901.],\n",
       "       [ 2342.],\n",
       "       [ 2101.],\n",
       "       [ 1865.],\n",
       "       [ 1484.],\n",
       "       [ 1272.],\n",
       "       [ 1156.],\n",
       "       [ 1078.],\n",
       "       [  907.],\n",
       "       [  819.],\n",
       "       [  760.],\n",
       "       [  629.],\n",
       "       [  521.],\n",
       "       [  426.],\n",
       "       [  407.],\n",
       "       [  398.],\n",
       "       [  312.],\n",
       "       [  291.],\n",
       "       [  248.],\n",
       "       [  216.],\n",
       "       [  202.],\n",
       "       [  168.],\n",
       "       [  158.],\n",
       "       [  148.],\n",
       "       [  140.],\n",
       "       [  132.],\n",
       "       [  149.],\n",
       "       [  119.],\n",
       "       [  138.],\n",
       "       [  152.],\n",
       "       [  148.],\n",
       "       [  190.],\n",
       "       [  224.],\n",
       "       [  615.],\n",
       "       [ 1146.],\n",
       "       [ 1949.],\n",
       "       [ 2988.],\n",
       "       [ 4143.],\n",
       "       [ 5168.],\n",
       "       [ 6079.],\n",
       "       [ 6641.],\n",
       "       [ 7195.],\n",
       "       [ 7373.],\n",
       "       [ 6764.],\n",
       "       [ 5709.],\n",
       "       [ 4504.],\n",
       "       [ 3970.],\n",
       "       [ 3387.],\n",
       "       [ 3016.],\n",
       "       [ 2845.],\n",
       "       [ 2701.],\n",
       "       [ 2725.],\n",
       "       [ 2788.],\n",
       "       [ 3052.],\n",
       "       [ 2981.],\n",
       "       [ 3123.],\n",
       "       [ 3027.],\n",
       "       [ 3133.],\n",
       "       [ 3242.],\n",
       "       [ 3363.],\n",
       "       [ 3564.],\n",
       "       [ 3477.],\n",
       "       [ 3458.],\n",
       "       [ 3173.],\n",
       "       [ 3095.],\n",
       "       [ 3170.],\n",
       "       [ 3206.],\n",
       "       [ 3185.],\n",
       "       [ 3263.],\n",
       "       [ 3514.],\n",
       "       [ 3515.],\n",
       "       [ 3679.],\n",
       "       [ 3794.],\n",
       "       [ 4128.],\n",
       "       [ 3987.],\n",
       "       [ 5504.],\n",
       "       [ 5568.],\n",
       "       [ 5943.],\n",
       "       [ 5927.],\n",
       "       [ 5971.],\n",
       "       [ 5849.],\n",
       "       [ 5356.],\n",
       "       [ 4664.],\n",
       "       [ 4275.],\n",
       "       [ 4062.],\n",
       "       [ 3966.],\n",
       "       [ 3978.],\n",
       "       [ 4261.],\n",
       "       [ 4423.],\n",
       "       [ 4822.],\n",
       "       [ 4603.],\n",
       "       [ 4686.],\n",
       "       [ 4540.],\n",
       "       [ 4369.],\n",
       "       [ 3765.],\n",
       "       [ 3602.],\n",
       "       [ 3157.],\n",
       "       [ 2468.],\n",
       "       [ 2211.],\n",
       "       [ 1912.],\n",
       "       [ 1590.],\n",
       "       [ 1417.],\n",
       "       [ 1255.],\n",
       "       [ 1142.],\n",
       "       [ 1052.],\n",
       "       [  897.],\n",
       "       [  765.],\n",
       "       [  661.],\n",
       "       [  615.],\n",
       "       [  477.],\n",
       "       [  468.],\n",
       "       [  409.],\n",
       "       [  396.],\n",
       "       [  320.],\n",
       "       [  279.],\n",
       "       [  262.],\n",
       "       [  219.],\n",
       "       [  199.],\n",
       "       [  199.],\n",
       "       [  168.],\n",
       "       [  171.],\n",
       "       [  171.],\n",
       "       [  179.],\n",
       "       [  140.],\n",
       "       [  136.],\n",
       "       [  160.],\n",
       "       [  160.],\n",
       "       [  196.],\n",
       "       [  227.],\n",
       "       [  566.],\n",
       "       [ 1132.],\n",
       "       [ 1999.],\n",
       "       [ 3182.],\n",
       "       [ 4578.],\n",
       "       [ 5634.],\n",
       "       [ 6412.],\n",
       "       [ 6983.],\n",
       "       [ 7360.],\n",
       "       [ 7338.],\n",
       "       [ 6281.],\n",
       "       [ 5521.],\n",
       "       [ 4457.],\n",
       "       [ 4491.],\n",
       "       [ 3619.],\n",
       "       [ 2982.],\n",
       "       [ 2842.],\n",
       "       [ 2641.],\n",
       "       [ 2639.],\n",
       "       [ 2787.],\n",
       "       [ 3061.],\n",
       "       [ 2983.],\n",
       "       [ 3066.],\n",
       "       [ 2988.],\n",
       "       [ 2990.],\n",
       "       [ 3160.],\n",
       "       [ 3230.],\n",
       "       [ 3281.],\n",
       "       [ 3243.],\n",
       "       [ 3322.],\n",
       "       [ 3032.],\n",
       "       [ 3034.],\n",
       "       [ 2975.],\n",
       "       [ 2883.],\n",
       "       [ 3067.],\n",
       "       [ 3179.],\n",
       "       [ 3273.],\n",
       "       [ 3323.],\n",
       "       [ 3498.],\n",
       "       [ 3526.],\n",
       "       [ 3832.],\n",
       "       [ 3952.],\n",
       "       [ 5009.],\n",
       "       [ 5131.],\n",
       "       [ 5680.],\n",
       "       [ 5709.],\n",
       "       [ 5595.],\n",
       "       [ 5659.],\n",
       "       [ 4944.],\n",
       "       [ 4423.],\n",
       "       [ 4272.],\n",
       "       [ 4025.],\n",
       "       [ 3856.],\n",
       "       [ 3674.],\n",
       "       [ 3955.],\n",
       "       [ 4012.],\n",
       "       [ 4118.],\n",
       "       [ 4056.],\n",
       "       [ 4098.],\n",
       "       [ 4086.],\n",
       "       [ 3851.],\n",
       "       [ 3581.],\n",
       "       [ 3528.],\n",
       "       [ 3117.],\n",
       "       [ 2482.],\n",
       "       [ 2189.],\n",
       "       [ 1869.],\n",
       "       [ 1545.],\n",
       "       [ 1458.],\n",
       "       [ 1323.],\n",
       "       [ 1286.],\n",
       "       [ 1080.],\n",
       "       [  965.],\n",
       "       [  859.],\n",
       "       [  715.],\n",
       "       [  630.],\n",
       "       [  619.],\n",
       "       [  521.],\n",
       "       [  430.],\n",
       "       [  404.],\n",
       "       [  348.],\n",
       "       [  274.],\n",
       "       [  245.],\n",
       "       [  248.],\n",
       "       [  219.],\n",
       "       [  197.],\n",
       "       [  169.],\n",
       "       [  154.],\n",
       "       [  151.],\n",
       "       [  130.],\n",
       "       [  141.],\n",
       "       [  144.],\n",
       "       [  132.],\n",
       "       [  127.],\n",
       "       [  169.],\n",
       "       [  247.],\n",
       "       [  474.],\n",
       "       [  859.],\n",
       "       [ 1601.],\n",
       "       [ 2668.],\n",
       "       [ 3827.],\n",
       "       [ 5101.],\n",
       "       [ 6047.],\n",
       "       [ 6766.],\n",
       "       [ 6840.],\n",
       "       [ 6515.],\n",
       "       [ 5510.],\n",
       "       [ 4940.],\n",
       "       [ 4134.],\n",
       "       [ 3639.],\n",
       "       [ 3237.],\n",
       "       [ 2874.],\n",
       "       [ 2795.],\n",
       "       [ 2698.],\n",
       "       [ 2709.],\n",
       "       [ 2789.],\n",
       "       [ 2978.],\n",
       "       [ 2877.],\n",
       "       [ 2982.],\n",
       "       [ 2786.],\n",
       "       [ 2937.],\n",
       "       [ 3088.],\n",
       "       [ 3331.],\n",
       "       [ 3302.],\n",
       "       [ 3449.],\n",
       "       [ 3347.],\n",
       "       [ 3114.],\n",
       "       [ 3124.],\n",
       "       [ 3074.],\n",
       "       [ 3170.],\n",
       "       [ 3040.],\n",
       "       [ 3121.],\n",
       "       [ 3366.],\n",
       "       [ 3419.],\n",
       "       [ 3535.],\n",
       "       [ 3454.],\n",
       "       [ 3661.],\n",
       "       [ 3766.],\n",
       "       [ 4901.],\n",
       "       [ 4825.],\n",
       "       [ 5574.],\n",
       "       [ 5371.],\n",
       "       [ 5354.],\n",
       "       [ 5234.],\n",
       "       [ 4804.],\n",
       "       [ 4381.],\n",
       "       [ 4108.],\n",
       "       [ 3899.],\n",
       "       [ 3787.],\n",
       "       [ 3612.],\n",
       "       [ 4060.],\n",
       "       [ 4006.],\n",
       "       [ 3876.],\n",
       "       [ 3894.],\n",
       "       [ 4115.],\n",
       "       [ 4095.],\n",
       "       [ 3912.],\n",
       "       [ 3545.],\n",
       "       [ 3560.],\n",
       "       [ 2934.],\n",
       "       [ 2662.]], dtype=float32)"
      ]
     },
     "execution_count": 204,
     "metadata": {},
     "output_type": "execute_result"
    }
   ],
   "source": [
    "car_dataset"
   ]
  },
  {
   "cell_type": "markdown",
   "metadata": {},
   "source": [
    "## Generalized the Above Described Process to Work With Most Datasets"
   ]
  },
  {
   "cell_type": "code",
   "execution_count": 355,
   "metadata": {
    "collapsed": true
   },
   "outputs": [],
   "source": [
    "def trainAndPredict(dataset, look_back=1, num_epochs=100):\n",
    "    # normalize the dataset\n",
    "    scaler = MinMaxScaler(feature_range=(0, 1))\n",
    "    dataset = scaler.fit_transform(dataset)\n",
    "    \n",
    "    # split into train and test sets\n",
    "    train_size = int(len(dataset) * 0.67)\n",
    "    test_size = len(dataset) - train_size\n",
    "    train, test = dataset[0:train_size,:], dataset[train_size:len(dataset),:]\n",
    "    print(len(train), len(test))\n",
    "\n",
    "    # reshape into X=t and Y=t+1\n",
    "    trainX, trainY = create_dataset(train, look_back)\n",
    "    testX, testY = create_dataset(test, look_back)\n",
    "\n",
    "    # reshape input to be [samples, time steps, features]\n",
    "    trainX = np.reshape(trainX, (trainX.shape[0], 1, trainX.shape[1]))\n",
    "    testX = np.reshape(testX, (testX.shape[0], 1, testX.shape[1]))\n",
    "    \n",
    "    # create and fit the LSTM network\n",
    "    model = Sequential()\n",
    "    model.add(LSTM(4, input_shape=(1, look_back)))\n",
    "    model.add(Dense(1))\n",
    "    model.compile(loss='mean_squared_error', optimizer='adam')\n",
    "    model.fit(trainX, trainY, epochs=num_epochs, batch_size=1, verbose=2)\n",
    "    \n",
    "    # make predictions\n",
    "    trainPredict = model.predict(trainX)\n",
    "    testPredict = model.predict(testX)\n",
    "    # invert predictions\n",
    "    trainPredict = scaler.inverse_transform(trainPredict)\n",
    "    trainY = scaler.inverse_transform([trainY])\n",
    "    testPredict = scaler.inverse_transform(testPredict)\n",
    "    testY = scaler.inverse_transform([testY])\n",
    "    # calculate root mean squared error\n",
    "    trainScore = math.sqrt(mean_squared_error(trainY[0], trainPredict[:,0]))\n",
    "    print('Train Score: %.2f RMSE' % (trainScore))\n",
    "    testScore = math.sqrt(mean_squared_error(testY[0], testPredict[:,0]))\n",
    "    print('Test Score: %.2f RMSE' % (testScore))\n",
    "    \n",
    "    # shift train predictions for plotting\n",
    "    trainPredictPlot = np.empty_like(dataset)\n",
    "    trainPredictPlot[:, :] = np.nan\n",
    "    trainPredictPlot[look_back:len(trainPredict)+look_back, :] = trainPredict\n",
    "    # shift test predictions for plotting\n",
    "    testPredictPlot = np.empty_like(dataset)\n",
    "    testPredictPlot[:, :] = np.nan\n",
    "    testPredictPlot[len(trainPredict)+(look_back*2)+1:len(dataset)-1, :] = testPredict\n",
    "    # plot baseline and predictions\n",
    "    plt.plot(scaler.inverse_transform(dataset))\n",
    "    plt.plot(trainPredictPlot)\n",
    "    plt.plot(testPredictPlot)\n",
    "    plt.show()\n",
    "    \n",
    "    return model\n"
   ]
  },
  {
   "cell_type": "code",
   "execution_count": 29,
   "metadata": {
    "collapsed": true
   },
   "outputs": [
    {
     "name": "stdout",
     "output_type": "stream",
     "text": [
      "(446, 221)\n",
      "Epoch 1/10\n",
      "1s - loss: 0.0223\n",
      "Epoch 2/10\n",
      "0s - loss: 0.0103\n",
      "Epoch 3/10\n",
      "0s - loss: 0.0068\n",
      "Epoch 4/10\n",
      "0s - loss: 0.0052\n",
      "Epoch 5/10\n",
      "0s - loss: 0.0045\n",
      "Epoch 6/10\n",
      "0s - loss: 0.0042\n",
      "Epoch 7/10\n",
      "0s - loss: 0.0038\n",
      "Epoch 8/10\n",
      "0s - loss: 0.0036\n",
      "Epoch 9/10\n",
      "0s - loss: 0.0035\n",
      "Epoch 10/10\n",
      "0s - loss: 0.0034\n",
      "Train Score: 24.06 RMSE\n",
      "Test Score: 34.10 RMSE\n"
     ]
    },
    {
     "data": {
      "image/png": "[encoded data removed]",
      "text/plain": [
       "<matplotlib.figure.Figure at 0x7f9e99d0d350>"
      ]
     },
     "metadata": {},
     "output_type": "display_data"
    }
   ],
   "source": [
    "trainAndPredict(car_dataset_station_1, look_back=20, num_epochs=10)"
   ]
  },
  {
   "cell_type": "code",
   "execution_count": 30,
   "metadata": {
    "collapsed": true
   },
   "outputs": [
    {
     "name": "stdout",
     "output_type": "stream",
     "text": [
      "(446, 221)\n",
      "Epoch 1/100\n",
      "1s - loss: 0.0221\n",
      "Epoch 2/100\n",
      "0s - loss: 0.0036\n",
      "Epoch 3/100\n",
      "0s - loss: 0.0028\n",
      "Epoch 4/100\n",
      "0s - loss: 0.0026\n",
      "Epoch 5/100\n",
      "0s - loss: 0.0022\n",
      "Epoch 6/100\n",
      "0s - loss: 0.0021\n",
      "Epoch 7/100\n",
      "0s - loss: 0.0019\n",
      "Epoch 8/100\n",
      "0s - loss: 0.0018\n",
      "Epoch 9/100\n",
      "0s - loss: 0.0017\n",
      "Epoch 10/100\n",
      "0s - loss: 0.0016\n",
      "Epoch 11/100\n",
      "0s - loss: 0.0016\n",
      "Epoch 12/100\n",
      "0s - loss: 0.0016\n",
      "Epoch 13/100\n",
      "0s - loss: 0.0015\n",
      "Epoch 14/100\n",
      "0s - loss: 0.0015\n",
      "Epoch 15/100\n",
      "0s - loss: 0.0015\n",
      "Epoch 16/100\n",
      "0s - loss: 0.0015\n",
      "Epoch 17/100\n",
      "0s - loss: 0.0014\n",
      "Epoch 18/100\n",
      "0s - loss: 0.0015\n",
      "Epoch 19/100\n",
      "0s - loss: 0.0015\n",
      "Epoch 20/100\n",
      "0s - loss: 0.0014\n",
      "Epoch 21/100\n",
      "0s - loss: 0.0014\n",
      "Epoch 22/100\n",
      "0s - loss: 0.0014\n",
      "Epoch 23/100\n",
      "0s - loss: 0.0014\n",
      "Epoch 24/100\n",
      "0s - loss: 0.0015\n",
      "Epoch 25/100\n",
      "0s - loss: 0.0014\n",
      "Epoch 26/100\n",
      "0s - loss: 0.0014\n",
      "Epoch 27/100\n",
      "0s - loss: 0.0014\n",
      "Epoch 28/100\n",
      "0s - loss: 0.0014\n",
      "Epoch 29/100\n",
      "0s - loss: 0.0014\n",
      "Epoch 30/100\n",
      "0s - loss: 0.0014\n",
      "Epoch 31/100\n",
      "0s - loss: 0.0013\n",
      "Epoch 32/100\n",
      "0s - loss: 0.0014\n",
      "Epoch 33/100\n",
      "0s - loss: 0.0014\n",
      "Epoch 34/100\n",
      "0s - loss: 0.0014\n",
      "Epoch 35/100\n",
      "0s - loss: 0.0014\n",
      "Epoch 36/100\n",
      "0s - loss: 0.0013\n",
      "Epoch 37/100\n",
      "0s - loss: 0.0013\n",
      "Epoch 38/100\n",
      "0s - loss: 0.0014\n",
      "Epoch 39/100\n",
      "0s - loss: 0.0013\n",
      "Epoch 40/100\n",
      "0s - loss: 0.0013\n",
      "Epoch 41/100\n",
      "0s - loss: 0.0013\n",
      "Epoch 42/100\n",
      "0s - loss: 0.0014\n",
      "Epoch 43/100\n",
      "0s - loss: 0.0013\n",
      "Epoch 44/100\n",
      "0s - loss: 0.0013\n",
      "Epoch 45/100\n",
      "0s - loss: 0.0013\n",
      "Epoch 46/100\n",
      "0s - loss: 0.0013\n",
      "Epoch 47/100\n",
      "0s - loss: 0.0013\n",
      "Epoch 48/100\n",
      "0s - loss: 0.0013\n",
      "Epoch 49/100\n",
      "0s - loss: 0.0013\n",
      "Epoch 50/100\n",
      "0s - loss: 0.0013\n",
      "Epoch 51/100\n",
      "0s - loss: 0.0013\n",
      "Epoch 52/100\n",
      "0s - loss: 0.0013\n",
      "Epoch 53/100\n",
      "0s - loss: 0.0013\n",
      "Epoch 54/100\n",
      "0s - loss: 0.0013\n",
      "Epoch 55/100\n",
      "0s - loss: 0.0013\n",
      "Epoch 56/100\n",
      "0s - loss: 0.0013\n",
      "Epoch 57/100\n",
      "0s - loss: 0.0013\n",
      "Epoch 58/100\n",
      "0s - loss: 0.0013\n",
      "Epoch 59/100\n",
      "0s - loss: 0.0013\n",
      "Epoch 60/100\n",
      "0s - loss: 0.0013\n",
      "Epoch 61/100\n",
      "0s - loss: 0.0013\n",
      "Epoch 62/100\n",
      "0s - loss: 0.0013\n",
      "Epoch 63/100\n",
      "0s - loss: 0.0013\n",
      "Epoch 64/100\n",
      "0s - loss: 0.0013\n",
      "Epoch 65/100\n",
      "0s - loss: 0.0013\n",
      "Epoch 66/100\n",
      "0s - loss: 0.0013\n",
      "Epoch 67/100\n",
      "0s - loss: 0.0013\n",
      "Epoch 68/100\n",
      "0s - loss: 0.0013\n",
      "Epoch 69/100\n",
      "0s - loss: 0.0013\n",
      "Epoch 70/100\n",
      "0s - loss: 0.0013\n",
      "Epoch 71/100\n",
      "0s - loss: 0.0013\n",
      "Epoch 72/100\n",
      "0s - loss: 0.0013\n",
      "Epoch 73/100\n",
      "0s - loss: 0.0013\n",
      "Epoch 74/100\n",
      "0s - loss: 0.0013\n",
      "Epoch 75/100\n",
      "0s - loss: 0.0013\n",
      "Epoch 76/100\n",
      "0s - loss: 0.0013\n",
      "Epoch 77/100\n",
      "0s - loss: 0.0013\n",
      "Epoch 78/100\n",
      "0s - loss: 0.0013\n",
      "Epoch 79/100\n",
      "0s - loss: 0.0013\n",
      "Epoch 80/100\n",
      "0s - loss: 0.0013\n",
      "Epoch 81/100\n",
      "0s - loss: 0.0013\n",
      "Epoch 82/100\n",
      "0s - loss: 0.0012\n",
      "Epoch 83/100\n",
      "0s - loss: 0.0013\n",
      "Epoch 84/100\n",
      "0s - loss: 0.0013\n",
      "Epoch 85/100\n",
      "0s - loss: 0.0013\n",
      "Epoch 86/100\n",
      "0s - loss: 0.0013\n",
      "Epoch 87/100\n",
      "0s - loss: 0.0013\n",
      "Epoch 88/100\n",
      "0s - loss: 0.0013\n",
      "Epoch 89/100\n",
      "0s - loss: 0.0013\n",
      "Epoch 90/100\n",
      "0s - loss: 0.0013\n",
      "Epoch 91/100\n",
      "0s - loss: 0.0013\n",
      "Epoch 92/100\n",
      "0s - loss: 0.0013\n",
      "Epoch 93/100\n",
      "0s - loss: 0.0012\n",
      "Epoch 94/100\n",
      "0s - loss: 0.0012\n",
      "Epoch 95/100\n",
      "0s - loss: 0.0013\n",
      "Epoch 96/100\n",
      "0s - loss: 0.0013\n",
      "Epoch 97/100\n",
      "0s - loss: 0.0013\n",
      "Epoch 98/100\n",
      "0s - loss: 0.0012\n",
      "Epoch 99/100\n",
      "0s - loss: 0.0012\n",
      "Epoch 100/100\n",
      "0s - loss: 0.0013\n",
      "Train Score: 45.24 RMSE\n",
      "Test Score: 52.25 RMSE\n"
     ]
    },
    {
     "data": {
      "image/png": "[encoded data removed]",
      "text/plain": [
       "<matplotlib.figure.Figure at 0x7f9e99186e90>"
      ]
     },
     "metadata": {},
     "output_type": "display_data"
    }
   ],
   "source": [
    "trainAndPredict(car_dataset_station_2, look_back=5)"
   ]
  },
  {
   "cell_type": "code",
   "execution_count": 377,
   "metadata": {},
   "outputs": [
    {
     "name": "stdout",
     "output_type": "stream",
     "text": [
      "(446, 221)\n",
      "Epoch 1/5\n",
      "1s - loss: 0.0327\n",
      "Epoch 2/5\n",
      "0s - loss: 0.0127\n",
      "Epoch 3/5\n",
      "0s - loss: 0.0076\n",
      "Epoch 4/5\n",
      "0s - loss: 0.0051\n",
      "Epoch 5/5\n",
      "0s - loss: 0.0035\n",
      "Train Score: 383.89 RMSE\n",
      "Test Score: 546.23 RMSE\n"
     ]
    },
    {
     "data": {
      "image/png": "[encoded data removed]",
      "text/plain": [
       "<matplotlib.figure.Figure at 0x7f9e8571bbd0>"
      ]
     },
     "metadata": {},
     "output_type": "display_data"
    }
   ],
   "source": [
    "np.random.seed(69)\n",
    "training_model = trainAndPredict(car_dataset, look_back=20, num_epochs=5)"
   ]
  },
  {
   "cell_type": "markdown",
   "metadata": {},
   "source": [
    "# The Prediction Function\n",
    "\n",
    "This function, given a keras LSTM Model that has been already trained, and data to feed the model, will return a 1-D array with the predicted values for the next 2 hours\n",
    "\n",
    "<b>@param</b> <i>model</i> - The Keras Model that has been previously trained \n",
    "<br/>\n",
    "<b>@param</b> <i>data</i> - A 2-D NumPy Array with data for the previous times in the first row\n",
    "<br/>\n",
    "<b>@param</b> <i>time_group</i> (opt) - the time grouping for the valies (default to the global variable for time_grouping)\n",
    "<br/>\n",
    "<br/>\n",
    "<b>@returns</b> - 1-D array for the expected next two hours"
   ]
  },
  {
   "cell_type": "code",
   "execution_count": 416,
   "metadata": {
    "collapsed": true
   },
   "outputs": [],
   "source": [
    "def predictNext2Hours (model, dataset, time_group=time_grouping):\n",
    "    dataset.astype('float32')\n",
    "    predictions = []\n",
    "    \n",
    "    # for as many times as it takes until the number of predictions x time_group >= 2 hours\n",
    "    for i in range(20):\n",
    "        # normalize the dataset\n",
    "        scaler = MinMaxScaler(feature_range=(0, 1))\n",
    "        dataset = dataset.transpose()\n",
    "        dataset = scaler.fit_transform(dataset)\n",
    "        dataset = dataset.transpose()\n",
    "        \n",
    "        # reshape the dataset\n",
    "        data = dataset.T\n",
    "        data = data.reshape(1, 1, data.shape[0])\n",
    "        \n",
    "        # make a prediction\n",
    "        prediction = model.predict(data)\n",
    "        \n",
    "        # take out the first element, add the prediction to the end\n",
    "        dataset[0][0:len(dataset[0])-1] = dataset[0][ 1: len(dataset[0])]\n",
    "        dataset[0, len(dataset[0])-1] = prediction\n",
    "        \n",
    "        # un-normalize the data set\n",
    "        dataset = dataset.transpose()\n",
    "        dataset = scaler.inverse_transform(dataset)\n",
    "        dataset = dataset.transpose()\n",
    "        # push the prediction into the array of predictions\n",
    "        predictions.append(dataset[0, len(dataset[0])-1])\n",
    "        \n",
    "        # repeat\n",
    "    \n",
    "    return predictions"
   ]
  },
  {
   "cell_type": "code",
   "execution_count": 418,
   "metadata": {},
   "outputs": [
    {
     "data": {
      "text/plain": [
       "[222.98252649046481,\n",
       " 205.51665758155286,\n",
       " 274.44405679404736,\n",
       " 253.9148350507021,\n",
       " 227.96705198287961,\n",
       " 213.87275378406042,\n",
       " 282.25949029624462,\n",
       " 237.08865919709206,\n",
       " 230.76347041130066,\n",
       " 250.84773507714272,\n",
       " 247.96411865949631,\n",
       " 265.23679554462433,\n",
       " 203.25576522201297,\n",
       " 260.28729170560837,\n",
       " 291.59932401776314,\n",
       " 230.28993332386014,\n",
       " 254.20749223232269,\n",
       " 269.93946023311423,\n",
       " 254.17511333899819,\n",
       " 257.68590369865706]"
      ]
     },
     "execution_count": 418,
     "metadata": {},
     "output_type": "execute_result"
    }
   ],
   "source": [
    "pred = predictNext2Hours (training_model, np.array([[2494,2024,1697,1408,1117,913,794,621,535,400,372,332,300,247,180,167,182,207,251,474]]))\n",
    "pred"
   ]
  },
  {
   "cell_type": "code",
   "execution_count": 385,
   "metadata": {
    "collapsed": true
   },
   "outputs": [],
   "source": [
    "actu = np.array([[  663.],\n",
    "[  881.],\n",
    "[ 1269.],\n",
    "[ 1577.],\n",
    "[ 1990.],\n",
    "[ 2109.],\n",
    "[ 2450.],\n",
    "[ 2655.],\n",
    "[ 2847.],\n",
    "[ 2751.],\n",
    "[ 2873.],\n",
    "[ 2894.],\n",
    "[ 2737.],\n",
    "[ 2819.],\n",
    "[ 2796.],\n",
    "[ 2872.],\n",
    "[ 2902.],\n",
    "[ 2980.],\n",
    "[ 2936.],\n",
    "[ 3053.],\n",
    "])"
   ]
  },
  {
   "cell_type": "code",
   "execution_count": 388,
   "metadata": {},
   "outputs": [
    {
     "data": {
      "text/plain": [
       "[<matplotlib.lines.Line2D at 0x7f9e855be190>]"
      ]
     },
     "execution_count": 388,
     "metadata": {},
     "output_type": "execute_result"
    },
    {
     "data": {
      "image/png": "[encoded data removed]",
      "text/plain": [
       "<matplotlib.figure.Figure at 0x7f9e855be050>"
      ]
     },
     "metadata": {},
     "output_type": "display_data"
    }
   ],
   "source": [
    "plt.plot(actu[:,0])\n",
    "plt.plot(pred)"
   ]
  },
  {
   "cell_type": "code",
   "execution_count": 437,
   "metadata": {},
   "outputs": [
    {
     "name": "stdout",
     "output_type": "stream",
     "text": [
      "Epoch 1/10\n",
      "1s - loss: 0.0560\n",
      "Epoch 2/10\n",
      "0s - loss: 0.0205\n",
      "Epoch 3/10\n",
      "0s - loss: 0.0122\n",
      "Epoch 4/10\n",
      "0s - loss: 0.0101\n",
      "Epoch 5/10\n",
      "0s - loss: 0.0087\n",
      "Epoch 6/10\n",
      "0s - loss: 0.0077\n",
      "Epoch 7/10\n",
      "0s - loss: 0.0069\n",
      "Epoch 8/10\n",
      "0s - loss: 0.0063\n",
      "Epoch 9/10\n",
      "0s - loss: 0.0060\n",
      "Epoch 10/10\n",
      "0s - loss: 0.0058\n"
     ]
    },
    {
     "data": {
      "text/plain": [
       "<keras.callbacks.History at 0x7f9e819e9dd0>"
      ]
     },
     "execution_count": 437,
     "metadata": {},
     "output_type": "execute_result"
    }
   ],
   "source": [
    "model = Sequential()\n",
    "model.add(LSTM(4, input_shape=(1, look_back)))\n",
    "model.add(Dense(1))\n",
    "model.compile(loss='mean_squared_error', optimizer='adam')\n",
    "model.fit(trainX, trainY, epochs=10, batch_size=1, verbose=2)"
   ]
  },
  {
   "cell_type": "code",
   "execution_count": 435,
   "metadata": {},
   "outputs": [
    {
     "data": {
      "text/plain": [
       "array([ 0.61360896,  0.56282616,  0.48815736,  0.46708152,  0.37274188,\n",
       "        0.30710557,  0.24909675,  0.19068648,  0.14973907,  0.12585308,\n",
       "        0.09112807,  0.07386592,  0.04676836,  0.04114814,  0.03311923,\n",
       "        0.02669611,  0.01605781,  0.00762746,  0.00260939,  0.        ,\n",
       "        0.00301084,  0.00802891,  0.0168607 ,  0.06162184,  0.09955841,\n",
       "        0.14331594,  0.22119632,  0.28301886,  0.3659173 ,  0.38980329,\n",
       "        0.45824969,  0.49939784,  0.53793657,  0.51866716,  0.54315531,\n",
       "        0.54737049,  0.51585704,  0.53231633,  0.52769971,  0.54295462,\n",
       "        0.5489763 ,  0.56463265,  0.55580086,  0.57928538,  0.60618222,\n",
       "        0.6085909 ,  0.63087112,  0.63528699,  0.63769567,  0.6505419 ,\n",
       "        0.67201924,  0.6593737 ,  0.68366116,  0.65897226,  0.6788438 ,\n",
       "        0.67322356,  0.6575672 ,  0.66017663,  0.63930148,  0.81714165,\n",
       "        0.87595338,  0.82597345,  0.79887593], dtype=float32)"
      ]
     },
     "execution_count": 435,
     "metadata": {},
     "output_type": "execute_result"
    }
   ],
   "source": [
    "trainY"
   ]
  },
  {
   "cell_type": "code",
   "execution_count": null,
   "metadata": {
    "collapsed": true
   },
   "outputs": [],
   "source": []
  },
  {
   "cell_type": "markdown",
   "metadata": {},
   "source": [
    "# Making LSTM w/ Multiple Outputs"
   ]
  },
  {
   "cell_type": "code",
   "execution_count": 878,
   "metadata": {
    "collapsed": true
   },
   "outputs": [],
   "source": [
    "# imports\n",
    "\n",
    "import numpy             as np\n",
    "import matplotlib.pyplot as plt\n",
    "import pandas            as pd\n",
    "import math\n",
    "import keras\n",
    "\n",
    "# jupyter command - allows plots to show up\n",
    "%matplotlib inline\n",
    "\n",
    "from matplotlib.pylab import rcParams\n",
    "rcParams['figure.figsize'] = 15, 6\n",
    "\n",
    "from keras.models import Sequential\n",
    "from keras.layers import Dense\n",
    "from keras.layers import LSTM\n",
    "from sklearn.preprocessing import MinMaxScaler\n",
    "from sklearn.metrics       import mean_squared_error\n",
    "from datetime import datetime"
   ]
  },
  {
   "cell_type": "code",
   "execution_count": 879,
   "metadata": {
    "collapsed": true
   },
   "outputs": [],
   "source": [
    "# fixes the random number seed to ensure reproducible results\n",
    "np.random.seed(69)"
   ]
  },
  {
   "cell_type": "code",
   "execution_count": 880,
   "metadata": {
    "collapsed": true
   },
   "outputs": [],
   "source": [
    "\n",
    "# The interval between each dataset (original data in 5 minute intervals)\n",
    "time_grouping = '5min'\n",
    "\n",
    "# load the dataset\n",
    "dataframe = pd.read_csv('ignored_assets/paxout_table.csv', engine='python', nrows=5000)\n",
    "dataframe['time_bucket'] = pd.to_datetime(dataframe['time_bucket'])\n",
    "dataframe = dataframe.set_index('time_bucket')\n",
    "dataframe['total'] = dataframe.sum(axis=1)\n",
    "dataframe['day_hour'] = dataframe.index.round(time_grouping)\n",
    "\n",
    "\n",
    "# The data set with the sum of all the cars out at the \n",
    "dataframe = dataframe[['total','day_hour']].groupby('day_hour').sum()\n",
    "\n",
    "dataset = dataframe.values\n",
    "dataset = dataset.astype('float32')"
   ]
  },
  {
   "cell_type": "code",
   "execution_count": 833,
   "metadata": {
    "collapsed": true
   },
   "outputs": [],
   "source": [
    "look_forward = 24"
   ]
  },
  {
   "cell_type": "code",
   "execution_count": 834,
   "metadata": {
    "collapsed": true
   },
   "outputs": [],
   "source": [
    "# normalize the dataset\n",
    "scaler = MinMaxScaler(feature_range=(0, 1))\n",
    "dataset = scaler.fit_transform(dataset)"
   ]
  },
  {
   "cell_type": "code",
   "execution_count": 835,
   "metadata": {},
   "outputs": [
    {
     "name": "stdout",
     "output_type": "stream",
     "text": [
      "(3350, 1626)\n"
     ]
    }
   ],
   "source": [
    "# split into train and test sets\n",
    "train_size = int(len(dataset) * 0.67)\n",
    "test_size = len(dataset) - train_size\n",
    "train, test = dataset[0:train_size,:], dataset[train_size:len(dataset)-look_forward,:]\n",
    "print(len(train), len(test))"
   ]
  },
  {
   "cell_type": "code",
   "execution_count": 836,
   "metadata": {
    "collapsed": true
   },
   "outputs": [],
   "source": [
    "# convert an array of values into a dataset matrix\n",
    "def create_dataset(dataset, look_back=1, look_forward=2):\n",
    "    dataX, dataY = [], []\n",
    "    np.array(dataY)\n",
    "    for i in range(len(dataset)-look_back-1):\n",
    "        a = dataset[i:(i+look_back), 0]\n",
    "        if len(dataset[i + look_back:i+look_back+look_forward, 0]) == look_forward:\n",
    "            dataX.append(a)\n",
    "            dataY.append(dataset[i + look_back:i+look_back+look_forward, 0])\n",
    "    return np.array(dataX), np.array(dataY)"
   ]
  },
  {
   "cell_type": "code",
   "execution_count": 837,
   "metadata": {
    "collapsed": true
   },
   "outputs": [],
   "source": [
    "# reshape into X=t and Y=t+1\n",
    "look_back = 288\n",
    "trainX, trainY = create_dataset(train, look_back, look_forward)\n",
    "testX, testY = create_dataset(test, look_back, look_forward)\n"
   ]
  },
  {
   "cell_type": "code",
   "execution_count": 838,
   "metadata": {
    "collapsed": true
   },
   "outputs": [],
   "source": [
    "# reshape input to be [samples, time steps, features]\n",
    "trainX = np.reshape(trainX, (trainX.shape[0], 1, trainX.shape[1]))\n",
    "testX = np.reshape(testX, (testX.shape[0], 1, testX.shape[1]))"
   ]
  },
  {
   "cell_type": "code",
   "execution_count": 839,
   "metadata": {
    "scrolled": true
   },
   "outputs": [
    {
     "name": "stdout",
     "output_type": "stream",
     "text": [
      "Epoch 1/5\n",
      "7s - loss: 0.0243\n",
      "Epoch 2/5\n",
      "5s - loss: 0.0114\n",
      "Epoch 3/5\n",
      "5s - loss: 0.0084\n",
      "Epoch 4/5\n",
      "6s - loss: 0.0075\n",
      "Epoch 5/5\n",
      "5s - loss: 0.0071\n"
     ]
    },
    {
     "data": {
      "text/plain": [
       "<keras.callbacks.History at 0x7f9e7529b790>"
      ]
     },
     "execution_count": 839,
     "metadata": {},
     "output_type": "execute_result"
    }
   ],
   "source": [
    "# create and fit the LSTM network\n",
    "model = Sequential()\n",
    "model.add(LSTM(4, input_shape=(1, look_back)))\n",
    "model.add(Dense(look_forward))\n",
    "model.compile(loss='mean_squared_error', optimizer='adam')\n",
    "model.fit(trainX, trainY, epochs=5, batch_size=1, verbose=2)"
   ]
  },
  {
   "cell_type": "code",
   "execution_count": 850,
   "metadata": {},
   "outputs": [
    {
     "name": "stdout",
     "output_type": "stream",
     "text": [
      "Epoch 1/1\n",
      "5s - loss: 0.0046\n",
      "Epoch 1/1\n",
      "5s - loss: 0.0046\n",
      "Epoch 1/1\n",
      "5s - loss: 0.0045\n",
      "Epoch 1/1\n",
      "5s - loss: 0.0045\n"
     ]
    },
    {
     "data": {
      "text/plain": [
       "<keras.callbacks.History at 0x7f9e75d31c50>"
      ]
     },
     "execution_count": 850,
     "metadata": {},
     "output_type": "execute_result"
    }
   ],
   "source": [
    "model.fit(trainX, trainY, epochs=1, batch_size=1, verbose=2)\n",
    "model.fit(trainX, trainY, epochs=1, batch_size=1, verbose=2)\n",
    "model.fit(trainX, trainY, epochs=1, batch_size=1, verbose=2)\n",
    "model.fit(trainX, trainY, epochs=1, batch_size=1, verbose=2)"
   ]
  },
  {
   "cell_type": "code",
   "execution_count": 841,
   "metadata": {
    "scrolled": true
   },
   "outputs": [
    {
     "name": "stdout",
     "output_type": "stream",
     "text": [
      "Epoch 1/1\n",
      "5s - loss: 0.0057\n",
      "Epoch 1/1\n",
      "5s - loss: 0.0055\n",
      "Epoch 1/1\n",
      "5s - loss: 0.0055\n",
      "Epoch 1/1\n",
      "5s - loss: 0.0054\n",
      "Epoch 1/1\n",
      "5s - loss: 0.0052\n",
      "Epoch 1/1\n",
      "5s - loss: 0.0052\n",
      "Epoch 1/1\n",
      "5s - loss: 0.0051\n",
      "Epoch 1/1\n",
      "5s - loss: 0.0050\n",
      "Epoch 1/1\n",
      "5s - loss: 0.0050\n",
      "Epoch 1/1\n",
      "5s - loss: 0.0049\n",
      "Epoch 1/1\n",
      "6s - loss: 0.0048\n",
      "Epoch 1/1\n",
      "5s - loss: 0.0047\n"
     ]
    },
    {
     "data": {
      "text/plain": [
       "<keras.callbacks.History at 0x7f9e75d240d0>"
      ]
     },
     "execution_count": 841,
     "metadata": {},
     "output_type": "execute_result"
    }
   ],
   "source": [
    "model.fit(trainX, trainY, epochs=1, batch_size=1, verbose=2)\n",
    "model.fit(trainX, trainY, epochs=1, batch_size=1, verbose=2)\n",
    "model.fit(trainX, trainY, epochs=1, batch_size=1, verbose=2)\n",
    "model.fit(trainX, trainY, epochs=1, batch_size=1, verbose=2)\n",
    "model.fit(trainX, trainY, epochs=1, batch_size=1, verbose=2)\n",
    "model.fit(trainX, trainY, epochs=1, batch_size=1, verbose=2)\n",
    "model.fit(trainX, trainY, epochs=1, batch_size=1, verbose=2)\n",
    "model.fit(trainX, trainY, epochs=1, batch_size=1, verbose=2)\n",
    "model.fit(trainX, trainY, epochs=1, batch_size=1, verbose=2)\n",
    "model.fit(trainX, trainY, epochs=1, batch_size=1, verbose=2)\n",
    "model.fit(trainX, trainY, epochs=1, batch_size=1, verbose=2)\n",
    "model.fit(trainX, trainY, epochs=1, batch_size=1, verbose=2)"
   ]
  },
  {
   "cell_type": "code",
   "execution_count": 842,
   "metadata": {
    "collapsed": true
   },
   "outputs": [],
   "source": [
    "def predictNext2Hours (model, dataset):\n",
    "    # normalize the dataset\n",
    "    scaler = MinMaxScaler(feature_range=(0, 1))\n",
    "    \n",
    "    dataset = dataset.transpose()\n",
    "    dataset = scaler.fit_transform(dataset)\n",
    "    dataset = dataset.transpose()\n",
    "        \n",
    "    # reshape the dataset\n",
    "    data = dataset.T\n",
    "    data = data.reshape(1, 1, data.shape[0])\n",
    "        \n",
    "    # make a prediction\n",
    "    prediction = model.predict(data)\n",
    "    \n",
    "\n",
    "    # un-normalize the data set\n",
    "    prediction = scaler.inverse_transform(prediction)\n",
    "    \n",
    "    return prediction"
   ]
  },
  {
   "cell_type": "code",
   "execution_count": null,
   "metadata": {
    "collapsed": true
   },
   "outputs": [],
   "source": []
  },
  {
   "cell_type": "markdown",
   "metadata": {},
   "source": [
    "# 15 minutes\n",
    "pred = predictNext2Hours (model, np.array([[2494,2024,1697,1408,1117,913,794,621,535,400,372,332,300,247,180,167,182,207,251,474]]))\n",
    "pred"
   ]
  },
  {
   "cell_type": "code",
   "execution_count": 877,
   "metadata": {},
   "outputs": [
    {
     "name": "stderr",
     "output_type": "stream",
     "text": [
      "/home/rdit/development/ts-predict/venv/local/lib/python2.7/site-packages/sklearn/preprocessing/data.py:321: DeprecationWarning: Passing 1d arrays as data is deprecated in 0.17 and will raise ValueError in 0.19. Reshape your data either using X.reshape(-1, 1) if your data has a single feature or X.reshape(1, -1) if it contains a single sample.\n",
      "  warnings.warn(DEPRECATION_MSG_1D, DeprecationWarning)\n",
      "/home/rdit/development/ts-predict/venv/local/lib/python2.7/site-packages/sklearn/preprocessing/data.py:356: DeprecationWarning: Passing 1d arrays as data is deprecated in 0.17 and will raise ValueError in 0.19. Reshape your data either using X.reshape(-1, 1) if your data has a single feature or X.reshape(1, -1) if it contains a single sample.\n",
      "  warnings.warn(DEPRECATION_MSG_1D, DeprecationWarning)\n"
     ]
    },
    {
     "data": {
      "text/plain": [
       "array([[ 2725.56591797,  2714.93823242,  2696.35961914,  2663.9543457 ,\n",
       "         2612.45263672,  2562.69018555,  2523.07226562,  2494.94677734,\n",
       "         2488.56225586,  2423.8215332 ,  2381.31347656,  2364.65185547,\n",
       "         2307.3996582 ,  2278.21655273,  2270.65942383,  2216.48242188,\n",
       "         2181.98486328,  2142.55566406,  2115.70678711,  2101.04492188,\n",
       "         2076.09204102,  2047.09411621,  2012.20202637,  1998.65283203]], dtype=float32)"
      ]
     },
     "execution_count": 877,
     "metadata": {},
     "output_type": "execute_result"
    }
   ],
   "source": [
    "pred = predictNext2Hours(model, car_dataset[0:288].reshape(288))\n",
    "pred"
   ]
  },
  {
   "cell_type": "code",
   "execution_count": 873,
   "metadata": {},
   "outputs": [
    {
     "data": {
      "text/plain": [
       "[<matplotlib.lines.Line2D at 0x7f9e767c1210>]"
      ]
     },
     "execution_count": 873,
     "metadata": {},
     "output_type": "execute_result"
    },
    {
     "data": {
      "image/png": "[encoded data removed]",
      "text/plain": [
       "<matplotlib.figure.Figure at 0x7f9e767c1310>"
      ]
     },
     "metadata": {},
     "output_type": "display_data"
    }
   ],
   "source": [
    "plt.plot(pred[0])\n",
    "plt.plot(car_dataset[0:24])"
   ]
  },
  {
   "cell_type": "code",
   "execution_count": 853,
   "metadata": {},
   "outputs": [
    {
     "data": {
      "text/plain": [
       "array([[ 155.83947754,  188.66775513,  223.20219421,  254.71896362,\n",
       "         282.17633057,  308.52853394,  335.75183105,  365.04696655,\n",
       "         395.94570923,  415.24838257,  432.94281006,  450.59329224,\n",
       "         459.96209717,  472.38528442,  484.30532837,  487.1394043 ,\n",
       "         488.10217285,  483.40240479,  478.16268921,  473.23248291,\n",
       "         466.8611145 ,  457.34649658,  447.94717407,  438.33764648]], dtype=float32)"
      ]
     },
     "execution_count": 853,
     "metadata": {},
     "output_type": "execute_result"
    }
   ],
   "source": [
    "pred = predictNext2Hours(model, np.array([\n",
    "       [  788.],       [  710.],       [  677.],       [  637.],       [  585.],       [  567.],       [  545.],       [  501.],       [  484.],       [  423.],       [  402.],       [  354.],       [  361.],       [  309.],       [  317.],       [  287.],       [  288.],       [  283.],       [  223.],       [  216.],       [  202.],       [  203.],       [  176.],       [  176.],       [  183.],       [  139.],       [  120.],       [  141.],       [  133.],       [  122.],       [  117.],       [  109.],       [  105.],       [  118.],       [   99.],       [  111.],       [   90.],       [   79.],       [   86.],       [   82.],       [   67.],       [   74.],       [   64.],       [   61.],       [   57.],       [   62.],       [   52.],       [   54.],       [   61.],       [   66.],       [   62.],       [   54.],       [   74.],       [   69.],       [   64.],       [   63.],       [   86.],       [  102.],       [  102.],       [  202.]]).reshape(1,60))\n",
    "pred"
   ]
  },
  {
   "cell_type": "code",
   "execution_count": 854,
   "metadata": {},
   "outputs": [
    {
     "data": {
      "text/plain": [
       "[<matplotlib.lines.Line2D at 0x7f9e76864090>]"
      ]
     },
     "execution_count": 854,
     "metadata": {},
     "output_type": "execute_result"
    },
    {
     "data": {
      "image/png": "[encoded data removed]",
      "text/plain": [
       "<matplotlib.figure.Figure at 0x7f9e768649d0>"
      ]
     },
     "metadata": {},
     "output_type": "display_data"
    }
   ],
   "source": [
    "plt.plot(pred[0])\n",
    "plt.plot(np.array([\n",
    "       [  170.],\n",
    "       [  198.],\n",
    "       [  218.],\n",
    "       [  247.],\n",
    "       [  271.],\n",
    "       [  294.],\n",
    "       [  316.],\n",
    "       [  402.],\n",
    "       [  408.],\n",
    "       [  459.],\n",
    "       [  494.],\n",
    "       [  520.],\n",
    "       [  563.],\n",
    "       [  611.],\n",
    "       [  717.],\n",
    "       [  662.],\n",
    "       [  678.],\n",
    "       [  708.],\n",
    "       [  723.],\n",
    "       [  795.],\n",
    "       [  805.],\n",
    "       [  850.],\n",
    "       [  841.],\n",
    "       [  905.]\n",
    "]).reshape(24))"
   ]
  },
  {
   "cell_type": "markdown",
   "metadata": {},
   "source": [
    "## Overall Data"
   ]
  },
  {
   "cell_type": "code",
   "execution_count": 871,
   "metadata": {},
   "outputs": [
    {
     "data": {
      "text/plain": [
       "[<matplotlib.lines.Line2D at 0x7f9e76525b10>]"
      ]
     },
     "execution_count": 871,
     "metadata": {},
     "output_type": "execute_result"
    },
    {
     "data": {
      "image/png": "[encoded data removed]",
      "text/plain": [
       "<matplotlib.figure.Figure at 0x7f9e76793490>"
      ]
     },
     "metadata": {},
     "output_type": "display_data"
    }
   ],
   "source": [
    "\n",
    "plt.plot(car_dataset[0:5000])"
   ]
  },
  {
   "cell_type": "code",
   "execution_count": 868,
   "metadata": {},
   "outputs": [
    {
     "data": {
      "text/plain": [
       "array([[ 1549.],\n",
       "       [ 4299.],\n",
       "       [ 3591.],\n",
       "       [ 3224.],\n",
       "       [ 2971.],\n",
       "       [ 2599.],\n",
       "       [ 2494.],\n",
       "       [ 2024.],\n",
       "       [ 1697.],\n",
       "       [ 1408.],\n",
       "       [ 1117.],\n",
       "       [  913.],\n",
       "       [  794.],\n",
       "       [  621.],\n",
       "       [  535.],\n",
       "       [  400.],\n",
       "       [  372.],\n",
       "       [  332.],\n",
       "       [  300.],\n",
       "       [  247.]], dtype=float32)"
      ]
     },
     "execution_count": 868,
     "metadata": {},
     "output_type": "execute_result"
    }
   ],
   "source": [
    "car_dataset[0:20]"
   ]
  },
  {
   "cell_type": "code",
   "execution_count": null,
   "metadata": {
    "collapsed": true
   },
   "outputs": [],
   "source": []
  }
 ],
 "metadata": {
  "kernelspec": {
   "display_name": "Python 2",
   "language": "python",
   "name": "python2"
  },
  "language_info": {
   "codemirror_mode": {
    "name": "ipython",
    "version": 2
   },
   "file_extension": ".py",
   "mimetype": "text/x-python",
   "name": "python",
   "nbconvert_exporter": "python",
   "pygments_lexer": "ipython2",
   "version": "2.7.12"
  }
 },
 "nbformat": 4,
 "nbformat_minor": 2
}
